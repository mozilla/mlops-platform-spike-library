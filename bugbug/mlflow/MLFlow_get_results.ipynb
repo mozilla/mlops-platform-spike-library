{
 "cells": [
  {
   "cell_type": "code",
   "execution_count": 1,
   "id": "f400d17c",
   "metadata": {},
   "outputs": [
    {
     "ename": "MlflowException",
     "evalue": "API request to endpoint /api/2.0/mlflow/runs/search failed with error code 401 != 200. Response body: 'Invalid IAP credentials: empty token'",
     "output_type": "error",
     "traceback": [
      "\u001b[0;31m---------------------------------------------------------------------------\u001b[0m",
      "\u001b[0;31mMlflowException\u001b[0m                           Traceback (most recent call last)",
      "Cell \u001b[0;32mIn[1], line 6\u001b[0m\n\u001b[1;32m      2\u001b[0m \u001b[38;5;28;01mfrom\u001b[39;00m \u001b[38;5;21;01mmlflow\u001b[39;00m\u001b[38;5;21;01m.\u001b[39;00m\u001b[38;5;21;01mentities\u001b[39;00m \u001b[38;5;28;01mimport\u001b[39;00m ViewType\n\u001b[1;32m      4\u001b[0m \u001b[38;5;28;01mfrom\u001b[39;00m \u001b[38;5;21;01mbugbug\u001b[39;00m\u001b[38;5;21;01m.\u001b[39;00m\u001b[38;5;21;01mtrackers\u001b[39;00m\u001b[38;5;21;01m.\u001b[39;00m\u001b[38;5;21;01mmlflow_config\u001b[39;00m \u001b[38;5;28;01mimport\u001b[39;00m tracking_uri\n\u001b[0;32m----> 6\u001b[0m run \u001b[38;5;241m=\u001b[39m \u001b[43mMlflowClient\u001b[49m\u001b[43m(\u001b[49m\u001b[43mregistry_uri\u001b[49m\u001b[38;5;241;43m=\u001b[39;49m\u001b[38;5;124;43m\"\u001b[39;49m\u001b[38;5;124;43mgs://oneclick-mlflow-store-f8bf20e5c6\u001b[39;49m\u001b[38;5;124;43m\"\u001b[39;49m\u001b[43m,\u001b[49m\u001b[43m \u001b[49m\u001b[43mtracking_uri\u001b[49m\u001b[38;5;241;43m=\u001b[39;49m\u001b[43mtracking_uri\u001b[49m\u001b[43m)\u001b[49m\u001b[38;5;241;43m.\u001b[39;49m\u001b[43msearch_runs\u001b[49m\u001b[43m(\u001b[49m\n\u001b[1;32m      7\u001b[0m \u001b[43m    \u001b[49m\u001b[43mexperiment_ids\u001b[49m\u001b[38;5;241;43m=\u001b[39;49m\u001b[38;5;124;43m\"\u001b[39;49m\u001b[38;5;124;43m2\u001b[39;49m\u001b[38;5;124;43m\"\u001b[39;49m\u001b[43m,\u001b[49m\n\u001b[1;32m      8\u001b[0m \u001b[43m    \u001b[49m\u001b[43mfilter_string\u001b[49m\u001b[38;5;241;43m=\u001b[39;49m\u001b[38;5;124;43m\"\u001b[39;49m\u001b[38;5;124;43m\"\u001b[39;49m\u001b[43m,\u001b[49m\n\u001b[1;32m      9\u001b[0m \u001b[43m    \u001b[49m\u001b[43mrun_view_type\u001b[49m\u001b[38;5;241;43m=\u001b[39;49m\u001b[43mViewType\u001b[49m\u001b[38;5;241;43m.\u001b[39;49m\u001b[43mACTIVE_ONLY\u001b[49m\u001b[43m,\u001b[49m\n\u001b[1;32m     10\u001b[0m \u001b[43m    \u001b[49m\u001b[43mmax_results\u001b[49m\u001b[38;5;241;43m=\u001b[39;49m\u001b[38;5;241;43m1\u001b[39;49m\u001b[43m,\u001b[49m\n\u001b[1;32m     11\u001b[0m \u001b[43m    \u001b[49m\u001b[43morder_by\u001b[49m\u001b[38;5;241;43m=\u001b[39;49m\u001b[43m[\u001b[49m\u001b[38;5;124;43m\"\u001b[39;49m\u001b[38;5;124;43mmetrics.test_accuracy_mean DESC\u001b[39;49m\u001b[38;5;124;43m\"\u001b[39;49m\u001b[43m]\u001b[49m\u001b[43m,\u001b[49m\n\u001b[1;32m     12\u001b[0m \u001b[43m)\u001b[49m\n\u001b[1;32m     13\u001b[0m \u001b[38;5;28mprint\u001b[39m(run[\u001b[38;5;241m0\u001b[39m]\u001b[38;5;241m.\u001b[39mdata\u001b[38;5;241m.\u001b[39mmetrics[\u001b[38;5;124m\"\u001b[39m\u001b[38;5;124mtest_accuracy_mean\u001b[39m\u001b[38;5;124m\"\u001b[39m])\n",
      "File \u001b[0;32m/opt/anaconda3/envs/mlops-metaflow-1/lib/python3.10/site-packages/mlflow/tracking/client.py:2007\u001b[0m, in \u001b[0;36mMlflowClient.search_runs\u001b[0;34m(self, experiment_ids, filter_string, run_view_type, max_results, order_by, page_token)\u001b[0m\n\u001b[1;32m   1916\u001b[0m \u001b[38;5;28;01mdef\u001b[39;00m \u001b[38;5;21msearch_runs\u001b[39m(\n\u001b[1;32m   1917\u001b[0m     \u001b[38;5;28mself\u001b[39m,\n\u001b[1;32m   1918\u001b[0m     experiment_ids: List[\u001b[38;5;28mstr\u001b[39m],\n\u001b[0;32m   (...)\u001b[0m\n\u001b[1;32m   1923\u001b[0m     page_token: Optional[\u001b[38;5;28mstr\u001b[39m] \u001b[38;5;241m=\u001b[39m \u001b[38;5;28;01mNone\u001b[39;00m,\n\u001b[1;32m   1924\u001b[0m ) \u001b[38;5;241m-\u001b[39m\u001b[38;5;241m>\u001b[39m PagedList[Run]:\n\u001b[1;32m   1925\u001b[0m \u001b[38;5;250m    \u001b[39m\u001b[38;5;124;03m\"\"\"\u001b[39;00m\n\u001b[1;32m   1926\u001b[0m \u001b[38;5;124;03m    Search for Runs that fit the specified criteria.\u001b[39;00m\n\u001b[1;32m   1927\u001b[0m \n\u001b[0;32m   (...)\u001b[0m\n\u001b[1;32m   2005\u001b[0m \u001b[38;5;124;03m        tags: {'s.release': '1.1.0-RC'}\u001b[39;00m\n\u001b[1;32m   2006\u001b[0m \u001b[38;5;124;03m    \"\"\"\u001b[39;00m\n\u001b[0;32m-> 2007\u001b[0m     \u001b[38;5;28;01mreturn\u001b[39;00m \u001b[38;5;28;43mself\u001b[39;49m\u001b[38;5;241;43m.\u001b[39;49m\u001b[43m_tracking_client\u001b[49m\u001b[38;5;241;43m.\u001b[39;49m\u001b[43msearch_runs\u001b[49m\u001b[43m(\u001b[49m\n\u001b[1;32m   2008\u001b[0m \u001b[43m        \u001b[49m\u001b[43mexperiment_ids\u001b[49m\u001b[43m,\u001b[49m\u001b[43m \u001b[49m\u001b[43mfilter_string\u001b[49m\u001b[43m,\u001b[49m\u001b[43m \u001b[49m\u001b[43mrun_view_type\u001b[49m\u001b[43m,\u001b[49m\u001b[43m \u001b[49m\u001b[43mmax_results\u001b[49m\u001b[43m,\u001b[49m\u001b[43m \u001b[49m\u001b[43morder_by\u001b[49m\u001b[43m,\u001b[49m\u001b[43m \u001b[49m\u001b[43mpage_token\u001b[49m\n\u001b[1;32m   2009\u001b[0m \u001b[43m    \u001b[49m\u001b[43m)\u001b[49m\n",
      "File \u001b[0;32m/opt/anaconda3/envs/mlops-metaflow-1/lib/python3.10/site-packages/mlflow/tracking/_tracking_service/client.py:551\u001b[0m, in \u001b[0;36mTrackingServiceClient.search_runs\u001b[0;34m(self, experiment_ids, filter_string, run_view_type, max_results, order_by, page_token)\u001b[0m\n\u001b[1;32m    549\u001b[0m \u001b[38;5;28;01mif\u001b[39;00m \u001b[38;5;28misinstance\u001b[39m(experiment_ids, \u001b[38;5;28mint\u001b[39m) \u001b[38;5;129;01mor\u001b[39;00m is_string_type(experiment_ids):\n\u001b[1;32m    550\u001b[0m     experiment_ids \u001b[38;5;241m=\u001b[39m [experiment_ids]\n\u001b[0;32m--> 551\u001b[0m \u001b[38;5;28;01mreturn\u001b[39;00m \u001b[38;5;28;43mself\u001b[39;49m\u001b[38;5;241;43m.\u001b[39;49m\u001b[43mstore\u001b[49m\u001b[38;5;241;43m.\u001b[39;49m\u001b[43msearch_runs\u001b[49m\u001b[43m(\u001b[49m\n\u001b[1;32m    552\u001b[0m \u001b[43m    \u001b[49m\u001b[43mexperiment_ids\u001b[49m\u001b[38;5;241;43m=\u001b[39;49m\u001b[43mexperiment_ids\u001b[49m\u001b[43m,\u001b[49m\n\u001b[1;32m    553\u001b[0m \u001b[43m    \u001b[49m\u001b[43mfilter_string\u001b[49m\u001b[38;5;241;43m=\u001b[39;49m\u001b[43mfilter_string\u001b[49m\u001b[43m,\u001b[49m\n\u001b[1;32m    554\u001b[0m \u001b[43m    \u001b[49m\u001b[43mrun_view_type\u001b[49m\u001b[38;5;241;43m=\u001b[39;49m\u001b[43mrun_view_type\u001b[49m\u001b[43m,\u001b[49m\n\u001b[1;32m    555\u001b[0m \u001b[43m    \u001b[49m\u001b[43mmax_results\u001b[49m\u001b[38;5;241;43m=\u001b[39;49m\u001b[43mmax_results\u001b[49m\u001b[43m,\u001b[49m\n\u001b[1;32m    556\u001b[0m \u001b[43m    \u001b[49m\u001b[43morder_by\u001b[49m\u001b[38;5;241;43m=\u001b[39;49m\u001b[43morder_by\u001b[49m\u001b[43m,\u001b[49m\n\u001b[1;32m    557\u001b[0m \u001b[43m    \u001b[49m\u001b[43mpage_token\u001b[49m\u001b[38;5;241;43m=\u001b[39;49m\u001b[43mpage_token\u001b[49m\u001b[43m,\u001b[49m\n\u001b[1;32m    558\u001b[0m \u001b[43m\u001b[49m\u001b[43m)\u001b[49m\n",
      "File \u001b[0;32m/opt/anaconda3/envs/mlops-metaflow-1/lib/python3.10/site-packages/mlflow/store/tracking/abstract_store.py:298\u001b[0m, in \u001b[0;36mAbstractStore.search_runs\u001b[0;34m(self, experiment_ids, filter_string, run_view_type, max_results, order_by, page_token)\u001b[0m\n\u001b[1;32m    271\u001b[0m \u001b[38;5;28;01mdef\u001b[39;00m \u001b[38;5;21msearch_runs\u001b[39m(\n\u001b[1;32m    272\u001b[0m     \u001b[38;5;28mself\u001b[39m,\n\u001b[1;32m    273\u001b[0m     experiment_ids,\n\u001b[0;32m   (...)\u001b[0m\n\u001b[1;32m    278\u001b[0m     page_token\u001b[38;5;241m=\u001b[39m\u001b[38;5;28;01mNone\u001b[39;00m,\n\u001b[1;32m    279\u001b[0m ):\n\u001b[1;32m    280\u001b[0m \u001b[38;5;250m    \u001b[39m\u001b[38;5;124;03m\"\"\"\u001b[39;00m\n\u001b[1;32m    281\u001b[0m \u001b[38;5;124;03m    Return runs that match the given list of search expressions within the experiments.\u001b[39;00m\n\u001b[1;32m    282\u001b[0m \n\u001b[0;32m   (...)\u001b[0m\n\u001b[1;32m    296\u001b[0m \u001b[38;5;124;03m        meaningful in such cases.\u001b[39;00m\n\u001b[1;32m    297\u001b[0m \u001b[38;5;124;03m    \"\"\"\u001b[39;00m\n\u001b[0;32m--> 298\u001b[0m     runs, token \u001b[38;5;241m=\u001b[39m \u001b[38;5;28;43mself\u001b[39;49m\u001b[38;5;241;43m.\u001b[39;49m\u001b[43m_search_runs\u001b[49m\u001b[43m(\u001b[49m\n\u001b[1;32m    299\u001b[0m \u001b[43m        \u001b[49m\u001b[43mexperiment_ids\u001b[49m\u001b[43m,\u001b[49m\u001b[43m \u001b[49m\u001b[43mfilter_string\u001b[49m\u001b[43m,\u001b[49m\u001b[43m \u001b[49m\u001b[43mrun_view_type\u001b[49m\u001b[43m,\u001b[49m\u001b[43m \u001b[49m\u001b[43mmax_results\u001b[49m\u001b[43m,\u001b[49m\u001b[43m \u001b[49m\u001b[43morder_by\u001b[49m\u001b[43m,\u001b[49m\u001b[43m \u001b[49m\u001b[43mpage_token\u001b[49m\n\u001b[1;32m    300\u001b[0m \u001b[43m    \u001b[49m\u001b[43m)\u001b[49m\n\u001b[1;32m    301\u001b[0m     \u001b[38;5;28;01mreturn\u001b[39;00m PagedList(runs, token)\n",
      "File \u001b[0;32m/opt/anaconda3/envs/mlops-metaflow-1/lib/python3.10/site-packages/mlflow/store/tracking/rest_store.py:288\u001b[0m, in \u001b[0;36mRestStore._search_runs\u001b[0;34m(self, experiment_ids, filter_string, run_view_type, max_results, order_by, page_token)\u001b[0m\n\u001b[1;32m    279\u001b[0m sr \u001b[38;5;241m=\u001b[39m SearchRuns(\n\u001b[1;32m    280\u001b[0m     experiment_ids\u001b[38;5;241m=\u001b[39mexperiment_ids,\n\u001b[1;32m    281\u001b[0m     \u001b[38;5;28mfilter\u001b[39m\u001b[38;5;241m=\u001b[39mfilter_string,\n\u001b[0;32m   (...)\u001b[0m\n\u001b[1;32m    285\u001b[0m     page_token\u001b[38;5;241m=\u001b[39mpage_token,\n\u001b[1;32m    286\u001b[0m )\n\u001b[1;32m    287\u001b[0m req_body \u001b[38;5;241m=\u001b[39m message_to_json(sr)\n\u001b[0;32m--> 288\u001b[0m response_proto \u001b[38;5;241m=\u001b[39m \u001b[38;5;28;43mself\u001b[39;49m\u001b[38;5;241;43m.\u001b[39;49m\u001b[43m_call_endpoint\u001b[49m\u001b[43m(\u001b[49m\u001b[43mSearchRuns\u001b[49m\u001b[43m,\u001b[49m\u001b[43m \u001b[49m\u001b[43mreq_body\u001b[49m\u001b[43m)\u001b[49m\n\u001b[1;32m    289\u001b[0m runs \u001b[38;5;241m=\u001b[39m [Run\u001b[38;5;241m.\u001b[39mfrom_proto(proto_run) \u001b[38;5;28;01mfor\u001b[39;00m proto_run \u001b[38;5;129;01min\u001b[39;00m response_proto\u001b[38;5;241m.\u001b[39mruns]\n\u001b[1;32m    290\u001b[0m \u001b[38;5;66;03m# If next_page_token is not set, we will see it as \"\". We need to convert this to None.\u001b[39;00m\n",
      "File \u001b[0;32m/opt/anaconda3/envs/mlops-metaflow-1/lib/python3.10/site-packages/mlflow/store/tracking/rest_store.py:59\u001b[0m, in \u001b[0;36mRestStore._call_endpoint\u001b[0;34m(self, api, json_body)\u001b[0m\n\u001b[1;32m     57\u001b[0m endpoint, method \u001b[38;5;241m=\u001b[39m _METHOD_TO_INFO[api]\n\u001b[1;32m     58\u001b[0m response_proto \u001b[38;5;241m=\u001b[39m api\u001b[38;5;241m.\u001b[39mResponse()\n\u001b[0;32m---> 59\u001b[0m \u001b[38;5;28;01mreturn\u001b[39;00m \u001b[43mcall_endpoint\u001b[49m\u001b[43m(\u001b[49m\u001b[38;5;28;43mself\u001b[39;49m\u001b[38;5;241;43m.\u001b[39;49m\u001b[43mget_host_creds\u001b[49m\u001b[43m(\u001b[49m\u001b[43m)\u001b[49m\u001b[43m,\u001b[49m\u001b[43m \u001b[49m\u001b[43mendpoint\u001b[49m\u001b[43m,\u001b[49m\u001b[43m \u001b[49m\u001b[43mmethod\u001b[49m\u001b[43m,\u001b[49m\u001b[43m \u001b[49m\u001b[43mjson_body\u001b[49m\u001b[43m,\u001b[49m\u001b[43m \u001b[49m\u001b[43mresponse_proto\u001b[49m\u001b[43m)\u001b[49m\n",
      "File \u001b[0;32m/opt/anaconda3/envs/mlops-metaflow-1/lib/python3.10/site-packages/mlflow/utils/rest_utils.py:203\u001b[0m, in \u001b[0;36mcall_endpoint\u001b[0;34m(host_creds, endpoint, method, json_body, response_proto, extra_headers)\u001b[0m\n\u001b[1;32m    201\u001b[0m     call_kwargs[\u001b[38;5;124m\"\u001b[39m\u001b[38;5;124mjson\u001b[39m\u001b[38;5;124m\"\u001b[39m] \u001b[38;5;241m=\u001b[39m json_body\n\u001b[1;32m    202\u001b[0m     response \u001b[38;5;241m=\u001b[39m http_request(\u001b[38;5;241m*\u001b[39m\u001b[38;5;241m*\u001b[39mcall_kwargs)\n\u001b[0;32m--> 203\u001b[0m response \u001b[38;5;241m=\u001b[39m \u001b[43mverify_rest_response\u001b[49m\u001b[43m(\u001b[49m\u001b[43mresponse\u001b[49m\u001b[43m,\u001b[49m\u001b[43m \u001b[49m\u001b[43mendpoint\u001b[49m\u001b[43m)\u001b[49m\n\u001b[1;32m    204\u001b[0m js_dict \u001b[38;5;241m=\u001b[39m json\u001b[38;5;241m.\u001b[39mloads(response\u001b[38;5;241m.\u001b[39mtext)\n\u001b[1;32m    205\u001b[0m parse_dict(js_dict\u001b[38;5;241m=\u001b[39mjs_dict, message\u001b[38;5;241m=\u001b[39mresponse_proto)\n",
      "File \u001b[0;32m/opt/anaconda3/envs/mlops-metaflow-1/lib/python3.10/site-packages/mlflow/utils/rest_utils.py:141\u001b[0m, in \u001b[0;36mverify_rest_response\u001b[0;34m(response, endpoint)\u001b[0m\n\u001b[1;32m    136\u001b[0m     \u001b[38;5;28;01melse\u001b[39;00m:\n\u001b[1;32m    137\u001b[0m         base_msg \u001b[38;5;241m=\u001b[39m (\n\u001b[1;32m    138\u001b[0m             \u001b[38;5;124mf\u001b[39m\u001b[38;5;124m\"\u001b[39m\u001b[38;5;124mAPI request to endpoint \u001b[39m\u001b[38;5;132;01m{\u001b[39;00mendpoint\u001b[38;5;132;01m}\u001b[39;00m\u001b[38;5;124m \u001b[39m\u001b[38;5;124m\"\u001b[39m\n\u001b[1;32m    139\u001b[0m             \u001b[38;5;124mf\u001b[39m\u001b[38;5;124m\"\u001b[39m\u001b[38;5;124mfailed with error code \u001b[39m\u001b[38;5;132;01m{\u001b[39;00mresponse\u001b[38;5;241m.\u001b[39mstatus_code\u001b[38;5;132;01m}\u001b[39;00m\u001b[38;5;124m != 200\u001b[39m\u001b[38;5;124m\"\u001b[39m\n\u001b[1;32m    140\u001b[0m         )\n\u001b[0;32m--> 141\u001b[0m         \u001b[38;5;28;01mraise\u001b[39;00m MlflowException(\n\u001b[1;32m    142\u001b[0m             \u001b[38;5;124mf\u001b[39m\u001b[38;5;124m\"\u001b[39m\u001b[38;5;132;01m{\u001b[39;00mbase_msg\u001b[38;5;132;01m}\u001b[39;00m\u001b[38;5;124m. Response body: \u001b[39m\u001b[38;5;124m'\u001b[39m\u001b[38;5;132;01m{\u001b[39;00mresponse\u001b[38;5;241m.\u001b[39mtext\u001b[38;5;132;01m}\u001b[39;00m\u001b[38;5;124m'\u001b[39m\u001b[38;5;124m\"\u001b[39m,\n\u001b[1;32m    143\u001b[0m             error_code\u001b[38;5;241m=\u001b[39mget_error_code(response\u001b[38;5;241m.\u001b[39mstatus_code),\n\u001b[1;32m    144\u001b[0m         )\n\u001b[1;32m    146\u001b[0m \u001b[38;5;66;03m# Skip validation for endpoints (e.g. DBFS file-download API) which may return a non-JSON\u001b[39;00m\n\u001b[1;32m    147\u001b[0m \u001b[38;5;66;03m# response\u001b[39;00m\n\u001b[1;32m    148\u001b[0m \u001b[38;5;28;01mif\u001b[39;00m endpoint\u001b[38;5;241m.\u001b[39mstartswith(_REST_API_PATH_PREFIX) \u001b[38;5;129;01mand\u001b[39;00m \u001b[38;5;129;01mnot\u001b[39;00m _can_parse_as_json_object(response\u001b[38;5;241m.\u001b[39mtext):\n",
      "\u001b[0;31mMlflowException\u001b[0m: API request to endpoint /api/2.0/mlflow/runs/search failed with error code 401 != 200. Response body: 'Invalid IAP credentials: empty token'"
     ]
    }
   ],
   "source": [
    "from mlflow import MlflowClient\n",
    "from mlflow.entities import ViewType\n",
    "\n",
    "from bugbug.trackers.mlflow_config import tracking_uri\n",
    "\n",
    "run = MlflowClient(registry_uri=\"gs://oneclick-mlflow-store-f8bf20e5c6\", tracking_uri=tracking_uri).search_runs(\n",
    "    experiment_ids=\"2\",\n",
    "    filter_string=\"\",\n",
    "    run_view_type=ViewType.ACTIVE_ONLY,\n",
    "    max_results=1,\n",
    "    order_by=[\"metrics.test_accuracy_mean DESC\"],\n",
    ")\n",
    "print(run[0].data.metrics[\"test_accuracy_mean\"])"
   ]
  },
  {
   "cell_type": "markdown",
   "id": "de194ea6",
   "metadata": {},
   "source": [
    "**Run inference on model from Registry**"
   ]
  },
  {
   "cell_type": "code",
   "execution_count": 3,
   "id": "c6de15a4",
   "metadata": {},
   "outputs": [
    {
     "name": "stdout",
     "output_type": "stream",
     "text": [
      "[1]\n"
     ]
    }
   ],
   "source": [
    "import mlflow\n",
    "import numpy as np\n",
    "import random\n",
    "\n",
    "model_name = \"CLF Model\"\n",
    "model_version = 1\n",
    "\n",
    "\n",
    "# model can be loaded either way\n",
    "model = mlflow.sklearn.load_model(model_uri=f\"models:/{model_name}/{model_version}\")\n",
    "#model = mlflow.pyfunc.load_model(model_uri=f\"models:/{model_name}/{model_version}\")\n",
    "\n",
    "data = [random.uniform(0, 1) for a in range(26467)]\n",
    "\n",
    "print(model.predict(np.array([data])))"
   ]
  },
  {
   "cell_type": "code",
   "execution_count": 19,
   "id": "df3ceb60",
   "metadata": {},
   "outputs": [],
   "source": [
    "model_name = \"SpambugFull\"\n",
    "model_version = 1"
   ]
  },
  {
   "cell_type": "code",
   "execution_count": null,
   "id": "0494cda1",
   "metadata": {},
   "outputs": [],
   "source": []
  },
  {
   "cell_type": "code",
   "execution_count": 20,
   "id": "f1c35568",
   "metadata": {},
   "outputs": [
    {
     "name": "stderr",
     "output_type": "stream",
     "text": [
      "2023/08/03 15:37:50 WARNING mlflow.pyfunc: Detected one or more mismatches between the model's dependencies and the current Python environment:\n",
      " - mlflow (current: 2.2.2, required: mlflow==2.5.0)\n",
      " - numpy (current: 1.22.4, required: numpy==1.23.2)\n",
      " - pyopenssl (current: 22.0.0, required: pyopenssl==23.2.0)\n",
      " - pytz (current: 2022.1, required: pytz==2023.3)\n",
      "To fix the mismatches, call `mlflow.pyfunc.get_model_dependencies(model_uri)` to fetch the model's environment and install dependencies using the resulting environment file.\n"
     ]
    }
   ],
   "source": [
    "model = mlflow.pyfunc.load_model(model_uri=f\"models:/{model_name}/{model_version}\")"
   ]
  },
  {
   "cell_type": "code",
   "execution_count": 21,
   "id": "29bccf46",
   "metadata": {},
   "outputs": [
    {
     "name": "stdout",
     "output_type": "stream",
     "text": [
      "mlflow.pyfunc.loaded_model:\n",
      "  artifact_path: spambug_full_model\n",
      "  flavor: mlflow.pyfunc.model\n",
      "  run_id: 99e12088cfe84d48961a9b597e1070f7\n",
      "\n"
     ]
    }
   ],
   "source": [
    "print(model)"
   ]
  },
  {
   "cell_type": "code",
   "execution_count": 43,
   "id": "4f8b5f10",
   "metadata": {},
   "outputs": [],
   "source": [
    "import json\n",
    "with open(\"./tests/fixtures/bugs.json\") as f:\n",
    "    example_bugs = [json.loads(line) for line in f]\n",
    "for bug in example_bugs:\n",
    "    bug[\"filed_via\"] = \"bugzilla\"\n",
    "prediction_input = [json.dumps(e) for e in example_bugs[:3]]\n"
   ]
  },
  {
   "cell_type": "code",
   "execution_count": 46,
   "id": "4f8a1b96",
   "metadata": {},
   "outputs": [
    {
     "ename": "TypeError",
     "evalue": "the JSON object must be str, bytes or bytearray, not int",
     "output_type": "error",
     "traceback": [
      "\u001b[0;31m---------------------------------------------------------------------------\u001b[0m",
      "\u001b[0;31mTypeError\u001b[0m                                 Traceback (most recent call last)",
      "Input \u001b[0;32mIn [46]\u001b[0m, in \u001b[0;36m<cell line: 2>\u001b[0;34m()\u001b[0m\n\u001b[1;32m      1\u001b[0m \u001b[38;5;66;03m## Not working\u001b[39;00m\n\u001b[0;32m----> 2\u001b[0m \u001b[43mmodel\u001b[49m\u001b[38;5;241;43m.\u001b[39;49m\u001b[43mpredict\u001b[49m\u001b[43m(\u001b[49m\u001b[43mprediction_input\u001b[49m\u001b[43m)\u001b[49m\n",
      "File \u001b[0;32m/opt/anaconda3/lib/python3.9/site-packages/mlflow/pyfunc/__init__.py:413\u001b[0m, in \u001b[0;36mPyFuncModel.predict\u001b[0;34m(self, data)\u001b[0m\n\u001b[1;32m    411\u001b[0m \u001b[38;5;28;01mif\u001b[39;00m input_schema \u001b[38;5;129;01mis\u001b[39;00m \u001b[38;5;129;01mnot\u001b[39;00m \u001b[38;5;28;01mNone\u001b[39;00m:\n\u001b[1;32m    412\u001b[0m     data \u001b[38;5;241m=\u001b[39m _enforce_schema(data, input_schema)\n\u001b[0;32m--> 413\u001b[0m \u001b[38;5;28;01mreturn\u001b[39;00m \u001b[38;5;28;43mself\u001b[39;49m\u001b[38;5;241;43m.\u001b[39;49m\u001b[43m_predict_fn\u001b[49m\u001b[43m(\u001b[49m\u001b[43mdata\u001b[49m\u001b[43m)\u001b[49m\n",
      "File \u001b[0;32m/opt/anaconda3/lib/python3.9/site-packages/mlflow/pyfunc/model.py:305\u001b[0m, in \u001b[0;36m_PythonModelPyfuncWrapper.predict\u001b[0;34m(self, model_input)\u001b[0m\n\u001b[1;32m    304\u001b[0m \u001b[38;5;28;01mdef\u001b[39;00m \u001b[38;5;21mpredict\u001b[39m(\u001b[38;5;28mself\u001b[39m, model_input):\n\u001b[0;32m--> 305\u001b[0m     \u001b[38;5;28;01mreturn\u001b[39;00m \u001b[38;5;28;43mself\u001b[39;49m\u001b[38;5;241;43m.\u001b[39;49m\u001b[43mpython_model\u001b[49m\u001b[38;5;241;43m.\u001b[39;49m\u001b[43mpredict\u001b[49m\u001b[43m(\u001b[49m\u001b[38;5;28;43mself\u001b[39;49m\u001b[38;5;241;43m.\u001b[39;49m\u001b[43mcontext\u001b[49m\u001b[43m,\u001b[49m\u001b[43m \u001b[49m\u001b[43mmodel_input\u001b[49m\u001b[43m)\u001b[49m\n",
      "File \u001b[0;32m~/Documents/GitHub/mlops-platform-spike-library/bugbug/mlflow/bugbug/trackers/spambug_inference.py:23\u001b[0m, in \u001b[0;36mSpambugInference.predict\u001b[0;34m(self, context, bugs)\u001b[0m\n\u001b[1;32m     17\u001b[0m \u001b[38;5;28;01mdef\u001b[39;00m \u001b[38;5;21mpredict\u001b[39m(\u001b[38;5;28mself\u001b[39m, context, bugs: List[\u001b[38;5;28mstr\u001b[39m]):\n\u001b[1;32m     18\u001b[0m \u001b[38;5;250m    \u001b[39m\u001b[38;5;124;03m\"\"\"\u001b[39;00m\n\u001b[1;32m     19\u001b[0m \u001b[38;5;124;03m    Args:\u001b[39;00m\n\u001b[1;32m     20\u001b[0m \u001b[38;5;124;03m        context ([type]): MLflow context where the model artifact is stored.\u001b[39;00m\n\u001b[1;32m     21\u001b[0m \u001b[38;5;124;03m        model_input ([type]): the input data to fit into the model.\u001b[39;00m\n\u001b[1;32m     22\u001b[0m \u001b[38;5;124;03m    \"\"\"\u001b[39;00m\n\u001b[0;32m---> 23\u001b[0m     bugs \u001b[38;5;241m=\u001b[39m [json\u001b[38;5;241m.\u001b[39mloads(s) \u001b[38;5;28;01mfor\u001b[39;00m s \u001b[38;5;129;01min\u001b[39;00m bugs]\n\u001b[1;32m     24\u001b[0m     probs \u001b[38;5;241m=\u001b[39m \u001b[38;5;28mself\u001b[39m\u001b[38;5;241m.\u001b[39mclassify(bugs, \u001b[38;5;28;01mTrue\u001b[39;00m)\n\u001b[1;32m     25\u001b[0m     indexes \u001b[38;5;241m=\u001b[39m probs\u001b[38;5;241m.\u001b[39margmax(axis\u001b[38;5;241m=\u001b[39m\u001b[38;5;241m-\u001b[39m\u001b[38;5;241m1\u001b[39m)\n",
      "File \u001b[0;32m~/Documents/GitHub/mlops-platform-spike-library/bugbug/mlflow/bugbug/trackers/spambug_inference.py:23\u001b[0m, in \u001b[0;36m<listcomp>\u001b[0;34m(.0)\u001b[0m\n\u001b[1;32m     17\u001b[0m \u001b[38;5;28;01mdef\u001b[39;00m \u001b[38;5;21mpredict\u001b[39m(\u001b[38;5;28mself\u001b[39m, context, bugs: List[\u001b[38;5;28mstr\u001b[39m]):\n\u001b[1;32m     18\u001b[0m \u001b[38;5;250m    \u001b[39m\u001b[38;5;124;03m\"\"\"\u001b[39;00m\n\u001b[1;32m     19\u001b[0m \u001b[38;5;124;03m    Args:\u001b[39;00m\n\u001b[1;32m     20\u001b[0m \u001b[38;5;124;03m        context ([type]): MLflow context where the model artifact is stored.\u001b[39;00m\n\u001b[1;32m     21\u001b[0m \u001b[38;5;124;03m        model_input ([type]): the input data to fit into the model.\u001b[39;00m\n\u001b[1;32m     22\u001b[0m \u001b[38;5;124;03m    \"\"\"\u001b[39;00m\n\u001b[0;32m---> 23\u001b[0m     bugs \u001b[38;5;241m=\u001b[39m [\u001b[43mjson\u001b[49m\u001b[38;5;241;43m.\u001b[39;49m\u001b[43mloads\u001b[49m\u001b[43m(\u001b[49m\u001b[43ms\u001b[49m\u001b[43m)\u001b[49m \u001b[38;5;28;01mfor\u001b[39;00m s \u001b[38;5;129;01min\u001b[39;00m bugs]\n\u001b[1;32m     24\u001b[0m     probs \u001b[38;5;241m=\u001b[39m \u001b[38;5;28mself\u001b[39m\u001b[38;5;241m.\u001b[39mclassify(bugs, \u001b[38;5;28;01mTrue\u001b[39;00m)\n\u001b[1;32m     25\u001b[0m     indexes \u001b[38;5;241m=\u001b[39m probs\u001b[38;5;241m.\u001b[39margmax(axis\u001b[38;5;241m=\u001b[39m\u001b[38;5;241m-\u001b[39m\u001b[38;5;241m1\u001b[39m)\n",
      "File \u001b[0;32m/opt/anaconda3/lib/python3.9/json/__init__.py:339\u001b[0m, in \u001b[0;36mloads\u001b[0;34m(s, cls, object_hook, parse_float, parse_int, parse_constant, object_pairs_hook, **kw)\u001b[0m\n\u001b[1;32m    337\u001b[0m \u001b[38;5;28;01melse\u001b[39;00m:\n\u001b[1;32m    338\u001b[0m     \u001b[38;5;28;01mif\u001b[39;00m \u001b[38;5;129;01mnot\u001b[39;00m \u001b[38;5;28misinstance\u001b[39m(s, (\u001b[38;5;28mbytes\u001b[39m, \u001b[38;5;28mbytearray\u001b[39m)):\n\u001b[0;32m--> 339\u001b[0m         \u001b[38;5;28;01mraise\u001b[39;00m \u001b[38;5;167;01mTypeError\u001b[39;00m(\u001b[38;5;124mf\u001b[39m\u001b[38;5;124m'\u001b[39m\u001b[38;5;124mthe JSON object must be str, bytes or bytearray, \u001b[39m\u001b[38;5;124m'\u001b[39m\n\u001b[1;32m    340\u001b[0m                         \u001b[38;5;124mf\u001b[39m\u001b[38;5;124m'\u001b[39m\u001b[38;5;124mnot \u001b[39m\u001b[38;5;132;01m{\u001b[39;00ms\u001b[38;5;241m.\u001b[39m\u001b[38;5;18m__class__\u001b[39m\u001b[38;5;241m.\u001b[39m\u001b[38;5;18m__name__\u001b[39m\u001b[38;5;132;01m}\u001b[39;00m\u001b[38;5;124m'\u001b[39m)\n\u001b[1;32m    341\u001b[0m     s \u001b[38;5;241m=\u001b[39m s\u001b[38;5;241m.\u001b[39mdecode(detect_encoding(s), \u001b[38;5;124m'\u001b[39m\u001b[38;5;124msurrogatepass\u001b[39m\u001b[38;5;124m'\u001b[39m)\n\u001b[1;32m    343\u001b[0m \u001b[38;5;28;01mif\u001b[39;00m (\u001b[38;5;28mcls\u001b[39m \u001b[38;5;129;01mis\u001b[39;00m \u001b[38;5;28;01mNone\u001b[39;00m \u001b[38;5;129;01mand\u001b[39;00m object_hook \u001b[38;5;129;01mis\u001b[39;00m \u001b[38;5;28;01mNone\u001b[39;00m \u001b[38;5;129;01mand\u001b[39;00m\n\u001b[1;32m    344\u001b[0m         parse_int \u001b[38;5;129;01mis\u001b[39;00m \u001b[38;5;28;01mNone\u001b[39;00m \u001b[38;5;129;01mand\u001b[39;00m parse_float \u001b[38;5;129;01mis\u001b[39;00m \u001b[38;5;28;01mNone\u001b[39;00m \u001b[38;5;129;01mand\u001b[39;00m\n\u001b[1;32m    345\u001b[0m         parse_constant \u001b[38;5;129;01mis\u001b[39;00m \u001b[38;5;28;01mNone\u001b[39;00m \u001b[38;5;129;01mand\u001b[39;00m object_pairs_hook \u001b[38;5;129;01mis\u001b[39;00m \u001b[38;5;28;01mNone\u001b[39;00m \u001b[38;5;129;01mand\u001b[39;00m \u001b[38;5;129;01mnot\u001b[39;00m kw):\n",
      "\u001b[0;31mTypeError\u001b[0m: the JSON object must be str, bytes or bytearray, not int"
     ]
    }
   ],
   "source": [
    "## Not working\n",
    "model.predict(prediction_input)"
   ]
  },
  {
   "cell_type": "code",
   "execution_count": 17,
   "id": "171f05ac",
   "metadata": {},
   "outputs": [
    {
     "name": "stderr",
     "output_type": "stream",
     "text": [
      "2023/08/02 16:24:25 INFO mlflow.pyfunc: To install the dependencies that were used to train the model, run the following command: '%pip install -r /var/folders/jq/lt0dyzf14y93d8k18k68_4fm0000gn/T/tmp2r21_wzn/requirements.txt'.\n"
     ]
    },
    {
     "data": {
      "text/plain": [
       "'/var/folders/jq/lt0dyzf14y93d8k18k68_4fm0000gn/T/tmp2r21_wzn/requirements.txt'"
      ]
     },
     "execution_count": 17,
     "metadata": {},
     "output_type": "execute_result"
    }
   ],
   "source": [
    "mlflow.pyfunc.get_model_dependencies(model_uri=f\"models:/{model_name}/{model_version}\")"
   ]
  },
  {
   "cell_type": "code",
   "execution_count": 18,
   "id": "aa505203",
   "metadata": {},
   "outputs": [
    {
     "name": "stdout",
     "output_type": "stream",
     "text": [
      "Requirement already satisfied: mlflow==2.5.0 in ./venv/lib/python3.9/site-packages (from -r /var/folders/jq/lt0dyzf14y93d8k18k68_4fm0000gn/T/tmp2r21_wzn/requirements.txt (line 1)) (2.5.0)\n",
      "Requirement already satisfied: cloudpickle==2.2.1 in ./venv/lib/python3.9/site-packages (from -r /var/folders/jq/lt0dyzf14y93d8k18k68_4fm0000gn/T/tmp2r21_wzn/requirements.txt (line 2)) (2.2.1)\n",
      "Requirement already satisfied: numpy==1.22.4 in ./venv/lib/python3.9/site-packages (from -r /var/folders/jq/lt0dyzf14y93d8k18k68_4fm0000gn/T/tmp2r21_wzn/requirements.txt (line 3)) (1.22.4)\n",
      "Requirement already satisfied: pandas==2.0.3 in ./venv/lib/python3.9/site-packages (from -r /var/folders/jq/lt0dyzf14y93d8k18k68_4fm0000gn/T/tmp2r21_wzn/requirements.txt (line 4)) (2.0.3)\n",
      "Requirement already satisfied: psutil==5.9.5 in ./venv/lib/python3.9/site-packages (from -r /var/folders/jq/lt0dyzf14y93d8k18k68_4fm0000gn/T/tmp2r21_wzn/requirements.txt (line 5)) (5.9.5)\n",
      "Requirement already satisfied: scikit-learn==1.1.3 in ./venv/lib/python3.9/site-packages (from -r /var/folders/jq/lt0dyzf14y93d8k18k68_4fm0000gn/T/tmp2r21_wzn/requirements.txt (line 6)) (1.1.3)\n",
      "Requirement already satisfied: scipy==1.11.1 in ./venv/lib/python3.9/site-packages (from -r /var/folders/jq/lt0dyzf14y93d8k18k68_4fm0000gn/T/tmp2r21_wzn/requirements.txt (line 7)) (1.11.1)\n",
      "Requirement already satisfied: xgboost==1.7.6 in ./venv/lib/python3.9/site-packages (from -r /var/folders/jq/lt0dyzf14y93d8k18k68_4fm0000gn/T/tmp2r21_wzn/requirements.txt (line 8)) (1.7.6)\n",
      "Requirement already satisfied: querystring-parser<2 in ./venv/lib/python3.9/site-packages (from mlflow==2.5.0->-r /var/folders/jq/lt0dyzf14y93d8k18k68_4fm0000gn/T/tmp2r21_wzn/requirements.txt (line 1)) (1.2.4)\n",
      "Requirement already satisfied: click<9,>=7.0 in ./venv/lib/python3.9/site-packages (from mlflow==2.5.0->-r /var/folders/jq/lt0dyzf14y93d8k18k68_4fm0000gn/T/tmp2r21_wzn/requirements.txt (line 1)) (8.1.6)\n",
      "Requirement already satisfied: databricks-cli<1,>=0.8.7 in ./venv/lib/python3.9/site-packages (from mlflow==2.5.0->-r /var/folders/jq/lt0dyzf14y93d8k18k68_4fm0000gn/T/tmp2r21_wzn/requirements.txt (line 1)) (0.17.7)\n",
      "Requirement already satisfied: alembic!=1.10.0,<2 in ./venv/lib/python3.9/site-packages (from mlflow==2.5.0->-r /var/folders/jq/lt0dyzf14y93d8k18k68_4fm0000gn/T/tmp2r21_wzn/requirements.txt (line 1)) (1.11.1)\n",
      "Requirement already satisfied: importlib-metadata!=4.7.0,<7,>=3.7.0 in ./venv/lib/python3.9/site-packages (from mlflow==2.5.0->-r /var/folders/jq/lt0dyzf14y93d8k18k68_4fm0000gn/T/tmp2r21_wzn/requirements.txt (line 1)) (6.8.0)\n",
      "Requirement already satisfied: docker<7,>=4.0.0 in ./venv/lib/python3.9/site-packages (from mlflow==2.5.0->-r /var/folders/jq/lt0dyzf14y93d8k18k68_4fm0000gn/T/tmp2r21_wzn/requirements.txt (line 1)) (6.1.3)\n",
      "Requirement already satisfied: sqlalchemy<3,>=1.4.0 in ./venv/lib/python3.9/site-packages (from mlflow==2.5.0->-r /var/folders/jq/lt0dyzf14y93d8k18k68_4fm0000gn/T/tmp2r21_wzn/requirements.txt (line 1)) (2.0.19)\n",
      "Requirement already satisfied: Flask<3 in ./venv/lib/python3.9/site-packages (from mlflow==2.5.0->-r /var/folders/jq/lt0dyzf14y93d8k18k68_4fm0000gn/T/tmp2r21_wzn/requirements.txt (line 1)) (2.3.2)\n",
      "Requirement already satisfied: gunicorn<21 in ./venv/lib/python3.9/site-packages (from mlflow==2.5.0->-r /var/folders/jq/lt0dyzf14y93d8k18k68_4fm0000gn/T/tmp2r21_wzn/requirements.txt (line 1)) (20.1.0)\n",
      "Requirement already satisfied: matplotlib<4 in ./venv/lib/python3.9/site-packages (from mlflow==2.5.0->-r /var/folders/jq/lt0dyzf14y93d8k18k68_4fm0000gn/T/tmp2r21_wzn/requirements.txt (line 1)) (3.7.2)\n",
      "Requirement already satisfied: pytz<2024 in ./venv/lib/python3.9/site-packages (from mlflow==2.5.0->-r /var/folders/jq/lt0dyzf14y93d8k18k68_4fm0000gn/T/tmp2r21_wzn/requirements.txt (line 1)) (2023.3)\n",
      "Requirement already satisfied: requests<3,>=2.17.3 in ./venv/lib/python3.9/site-packages (from mlflow==2.5.0->-r /var/folders/jq/lt0dyzf14y93d8k18k68_4fm0000gn/T/tmp2r21_wzn/requirements.txt (line 1)) (2.31.0)\n",
      "Requirement already satisfied: packaging<24 in ./venv/lib/python3.9/site-packages (from mlflow==2.5.0->-r /var/folders/jq/lt0dyzf14y93d8k18k68_4fm0000gn/T/tmp2r21_wzn/requirements.txt (line 1)) (23.1)\n",
      "Requirement already satisfied: markdown<4,>=3.3 in ./venv/lib/python3.9/site-packages (from mlflow==2.5.0->-r /var/folders/jq/lt0dyzf14y93d8k18k68_4fm0000gn/T/tmp2r21_wzn/requirements.txt (line 1)) (3.4.4)\n",
      "Requirement already satisfied: pyarrow<13,>=4.0.0 in ./venv/lib/python3.9/site-packages (from mlflow==2.5.0->-r /var/folders/jq/lt0dyzf14y93d8k18k68_4fm0000gn/T/tmp2r21_wzn/requirements.txt (line 1)) (12.0.1)\n",
      "Requirement already satisfied: entrypoints<1 in ./venv/lib/python3.9/site-packages (from mlflow==2.5.0->-r /var/folders/jq/lt0dyzf14y93d8k18k68_4fm0000gn/T/tmp2r21_wzn/requirements.txt (line 1)) (0.4)\n",
      "Requirement already satisfied: Jinja2<4,>=2.11 in ./venv/lib/python3.9/site-packages (from mlflow==2.5.0->-r /var/folders/jq/lt0dyzf14y93d8k18k68_4fm0000gn/T/tmp2r21_wzn/requirements.txt (line 1)) (3.1.2)\n",
      "Requirement already satisfied: protobuf<5,>=3.12.0 in ./venv/lib/python3.9/site-packages (from mlflow==2.5.0->-r /var/folders/jq/lt0dyzf14y93d8k18k68_4fm0000gn/T/tmp2r21_wzn/requirements.txt (line 1)) (4.23.4)\n",
      "Requirement already satisfied: gitpython<4,>=2.1.0 in ./venv/lib/python3.9/site-packages (from mlflow==2.5.0->-r /var/folders/jq/lt0dyzf14y93d8k18k68_4fm0000gn/T/tmp2r21_wzn/requirements.txt (line 1)) (3.1.32)\n",
      "Requirement already satisfied: pyyaml<7,>=5.1 in ./venv/lib/python3.9/site-packages (from mlflow==2.5.0->-r /var/folders/jq/lt0dyzf14y93d8k18k68_4fm0000gn/T/tmp2r21_wzn/requirements.txt (line 1)) (6.0.1)\n",
      "Requirement already satisfied: sqlparse<1,>=0.4.0 in ./venv/lib/python3.9/site-packages (from mlflow==2.5.0->-r /var/folders/jq/lt0dyzf14y93d8k18k68_4fm0000gn/T/tmp2r21_wzn/requirements.txt (line 1)) (0.4.4)\n",
      "Requirement already satisfied: python-dateutil>=2.8.2 in ./venv/lib/python3.9/site-packages (from pandas==2.0.3->-r /var/folders/jq/lt0dyzf14y93d8k18k68_4fm0000gn/T/tmp2r21_wzn/requirements.txt (line 4)) (2.8.2)\n",
      "Requirement already satisfied: tzdata>=2022.1 in ./venv/lib/python3.9/site-packages (from pandas==2.0.3->-r /var/folders/jq/lt0dyzf14y93d8k18k68_4fm0000gn/T/tmp2r21_wzn/requirements.txt (line 4)) (2023.3)\n",
      "Requirement already satisfied: joblib>=1.0.0 in ./venv/lib/python3.9/site-packages (from scikit-learn==1.1.3->-r /var/folders/jq/lt0dyzf14y93d8k18k68_4fm0000gn/T/tmp2r21_wzn/requirements.txt (line 6)) (1.3.1)\n",
      "Requirement already satisfied: threadpoolctl>=2.0.0 in ./venv/lib/python3.9/site-packages (from scikit-learn==1.1.3->-r /var/folders/jq/lt0dyzf14y93d8k18k68_4fm0000gn/T/tmp2r21_wzn/requirements.txt (line 6)) (3.2.0)\n",
      "Requirement already satisfied: typing-extensions>=4 in ./venv/lib/python3.9/site-packages (from alembic!=1.10.0,<2->mlflow==2.5.0->-r /var/folders/jq/lt0dyzf14y93d8k18k68_4fm0000gn/T/tmp2r21_wzn/requirements.txt (line 1)) (4.7.1)\n",
      "Requirement already satisfied: Mako in ./venv/lib/python3.9/site-packages (from alembic!=1.10.0,<2->mlflow==2.5.0->-r /var/folders/jq/lt0dyzf14y93d8k18k68_4fm0000gn/T/tmp2r21_wzn/requirements.txt (line 1)) (1.2.4)\n",
      "Requirement already satisfied: pyjwt>=1.7.0 in ./venv/lib/python3.9/site-packages (from databricks-cli<1,>=0.8.7->mlflow==2.5.0->-r /var/folders/jq/lt0dyzf14y93d8k18k68_4fm0000gn/T/tmp2r21_wzn/requirements.txt (line 1)) (2.8.0)\n",
      "Requirement already satisfied: oauthlib>=3.1.0 in ./venv/lib/python3.9/site-packages (from databricks-cli<1,>=0.8.7->mlflow==2.5.0->-r /var/folders/jq/lt0dyzf14y93d8k18k68_4fm0000gn/T/tmp2r21_wzn/requirements.txt (line 1)) (3.2.2)\n",
      "Requirement already satisfied: tabulate>=0.7.7 in ./venv/lib/python3.9/site-packages (from databricks-cli<1,>=0.8.7->mlflow==2.5.0->-r /var/folders/jq/lt0dyzf14y93d8k18k68_4fm0000gn/T/tmp2r21_wzn/requirements.txt (line 1)) (0.9.0)\n",
      "Requirement already satisfied: six>=1.10.0 in ./venv/lib/python3.9/site-packages (from databricks-cli<1,>=0.8.7->mlflow==2.5.0->-r /var/folders/jq/lt0dyzf14y93d8k18k68_4fm0000gn/T/tmp2r21_wzn/requirements.txt (line 1)) (1.16.0)\n",
      "Requirement already satisfied: urllib3<2.0.0,>=1.26.7 in ./venv/lib/python3.9/site-packages (from databricks-cli<1,>=0.8.7->mlflow==2.5.0->-r /var/folders/jq/lt0dyzf14y93d8k18k68_4fm0000gn/T/tmp2r21_wzn/requirements.txt (line 1)) (1.26.16)\n",
      "Requirement already satisfied: websocket-client>=0.32.0 in ./venv/lib/python3.9/site-packages (from docker<7,>=4.0.0->mlflow==2.5.0->-r /var/folders/jq/lt0dyzf14y93d8k18k68_4fm0000gn/T/tmp2r21_wzn/requirements.txt (line 1)) (1.6.1)\n",
      "Requirement already satisfied: itsdangerous>=2.1.2 in ./venv/lib/python3.9/site-packages (from Flask<3->mlflow==2.5.0->-r /var/folders/jq/lt0dyzf14y93d8k18k68_4fm0000gn/T/tmp2r21_wzn/requirements.txt (line 1)) (2.1.2)\n",
      "Requirement already satisfied: blinker>=1.6.2 in ./venv/lib/python3.9/site-packages (from Flask<3->mlflow==2.5.0->-r /var/folders/jq/lt0dyzf14y93d8k18k68_4fm0000gn/T/tmp2r21_wzn/requirements.txt (line 1)) (1.6.2)\n",
      "Requirement already satisfied: Werkzeug>=2.3.3 in ./venv/lib/python3.9/site-packages (from Flask<3->mlflow==2.5.0->-r /var/folders/jq/lt0dyzf14y93d8k18k68_4fm0000gn/T/tmp2r21_wzn/requirements.txt (line 1)) (2.3.6)\n",
      "Requirement already satisfied: gitdb<5,>=4.0.1 in ./venv/lib/python3.9/site-packages (from gitpython<4,>=2.1.0->mlflow==2.5.0->-r /var/folders/jq/lt0dyzf14y93d8k18k68_4fm0000gn/T/tmp2r21_wzn/requirements.txt (line 1)) (4.0.10)\n",
      "Requirement already satisfied: setuptools>=3.0 in ./venv/lib/python3.9/site-packages (from gunicorn<21->mlflow==2.5.0->-r /var/folders/jq/lt0dyzf14y93d8k18k68_4fm0000gn/T/tmp2r21_wzn/requirements.txt (line 1)) (58.1.0)\n",
      "Requirement already satisfied: zipp>=0.5 in ./venv/lib/python3.9/site-packages (from importlib-metadata!=4.7.0,<7,>=3.7.0->mlflow==2.5.0->-r /var/folders/jq/lt0dyzf14y93d8k18k68_4fm0000gn/T/tmp2r21_wzn/requirements.txt (line 1)) (3.16.2)\n",
      "Requirement already satisfied: MarkupSafe>=2.0 in ./venv/lib/python3.9/site-packages (from Jinja2<4,>=2.11->mlflow==2.5.0->-r /var/folders/jq/lt0dyzf14y93d8k18k68_4fm0000gn/T/tmp2r21_wzn/requirements.txt (line 1)) (2.1.3)\n",
      "Requirement already satisfied: pillow>=6.2.0 in ./venv/lib/python3.9/site-packages (from matplotlib<4->mlflow==2.5.0->-r /var/folders/jq/lt0dyzf14y93d8k18k68_4fm0000gn/T/tmp2r21_wzn/requirements.txt (line 1)) (10.0.0)\n",
      "Requirement already satisfied: importlib-resources>=3.2.0 in ./venv/lib/python3.9/site-packages (from matplotlib<4->mlflow==2.5.0->-r /var/folders/jq/lt0dyzf14y93d8k18k68_4fm0000gn/T/tmp2r21_wzn/requirements.txt (line 1)) (6.0.0)\n",
      "Requirement already satisfied: pyparsing<3.1,>=2.3.1 in ./venv/lib/python3.9/site-packages (from matplotlib<4->mlflow==2.5.0->-r /var/folders/jq/lt0dyzf14y93d8k18k68_4fm0000gn/T/tmp2r21_wzn/requirements.txt (line 1)) (3.0.9)\n",
      "Requirement already satisfied: fonttools>=4.22.0 in ./venv/lib/python3.9/site-packages (from matplotlib<4->mlflow==2.5.0->-r /var/folders/jq/lt0dyzf14y93d8k18k68_4fm0000gn/T/tmp2r21_wzn/requirements.txt (line 1)) (4.41.1)\n",
      "Requirement already satisfied: kiwisolver>=1.0.1 in ./venv/lib/python3.9/site-packages (from matplotlib<4->mlflow==2.5.0->-r /var/folders/jq/lt0dyzf14y93d8k18k68_4fm0000gn/T/tmp2r21_wzn/requirements.txt (line 1)) (1.4.4)\n",
      "Requirement already satisfied: contourpy>=1.0.1 in ./venv/lib/python3.9/site-packages (from matplotlib<4->mlflow==2.5.0->-r /var/folders/jq/lt0dyzf14y93d8k18k68_4fm0000gn/T/tmp2r21_wzn/requirements.txt (line 1)) (1.1.0)\n",
      "Requirement already satisfied: cycler>=0.10 in ./venv/lib/python3.9/site-packages (from matplotlib<4->mlflow==2.5.0->-r /var/folders/jq/lt0dyzf14y93d8k18k68_4fm0000gn/T/tmp2r21_wzn/requirements.txt (line 1)) (0.11.0)\n"
     ]
    },
    {
     "name": "stdout",
     "output_type": "stream",
     "text": [
      "Requirement already satisfied: idna<4,>=2.5 in ./venv/lib/python3.9/site-packages (from requests<3,>=2.17.3->mlflow==2.5.0->-r /var/folders/jq/lt0dyzf14y93d8k18k68_4fm0000gn/T/tmp2r21_wzn/requirements.txt (line 1)) (3.4)\n",
      "Requirement already satisfied: certifi>=2017.4.17 in ./venv/lib/python3.9/site-packages (from requests<3,>=2.17.3->mlflow==2.5.0->-r /var/folders/jq/lt0dyzf14y93d8k18k68_4fm0000gn/T/tmp2r21_wzn/requirements.txt (line 1)) (2023.7.22)\n",
      "Requirement already satisfied: charset-normalizer<4,>=2 in ./venv/lib/python3.9/site-packages (from requests<3,>=2.17.3->mlflow==2.5.0->-r /var/folders/jq/lt0dyzf14y93d8k18k68_4fm0000gn/T/tmp2r21_wzn/requirements.txt (line 1)) (3.2.0)\n",
      "Requirement already satisfied: smmap<6,>=3.0.1 in ./venv/lib/python3.9/site-packages (from gitdb<5,>=4.0.1->gitpython<4,>=2.1.0->mlflow==2.5.0->-r /var/folders/jq/lt0dyzf14y93d8k18k68_4fm0000gn/T/tmp2r21_wzn/requirements.txt (line 1)) (5.0.0)\n",
      "\u001b[33mWARNING: You are using pip version 22.0.4; however, version 23.2.1 is available.\n",
      "You should consider upgrading via the '/Users/Rrando/Documents/GitHub/mlops-platform-spike-library/bugbug/mlflow/venv/bin/python3 -m pip install --upgrade pip' command.\u001b[0m\u001b[33m\n",
      "\u001b[0m"
     ]
    }
   ],
   "source": [
    "!pip install -r /var/folders/jq/lt0dyzf14y93d8k18k68_4fm0000gn/T/tmp2r21_wzn/requirements.txt"
   ]
  },
  {
   "cell_type": "code",
   "execution_count": null,
   "id": "992f97ad",
   "metadata": {},
   "outputs": [],
   "source": []
  }
 ],
 "metadata": {
  "kernelspec": {
   "display_name": "Python 3 (ipykernel)",
   "language": "python",
   "name": "python3"
  },
  "language_info": {
   "codemirror_mode": {
    "name": "ipython",
    "version": 3
   },
   "file_extension": ".py",
   "mimetype": "text/x-python",
   "name": "python",
   "nbconvert_exporter": "python",
   "pygments_lexer": "ipython3",
   "version": "3.10.12"
  }
 },
 "nbformat": 4,
 "nbformat_minor": 5
}
