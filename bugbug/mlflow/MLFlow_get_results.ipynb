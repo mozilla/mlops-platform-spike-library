{
 "cells": [
  {
   "cell_type": "code",
   "execution_count": 1,
   "id": "92c0ea5f",
   "metadata": {},
   "outputs": [
    {
     "name": "stdout",
     "output_type": "stream",
     "text": [
      "Trying to set uri to https://mlflow-dot-moz-fx-dev-ctroy-ml-ops-spikes.ew.r.appspot.com\n",
      "Tracking uri set to https://mlflow-dot-moz-fx-dev-ctroy-ml-ops-spikes.ew.r.appspot.com\n",
      "0.9925540811738708\n"
     ]
    }
   ],
   "source": [
    "from mlflow import MlflowClient\n",
    "from mlflow.entities import ViewType\n",
    "\n",
    "from bugbug.trackers.mlflow_config import tracking_uri\n",
    "\n",
    "run = MlflowClient(registry_uri=\"gs://oneclick-mlflow-store-f8bf20e5c6\", tracking_uri=tracking_uri).search_runs(\n",
    "    experiment_ids=\"2\",\n",
    "    filter_string=\"\",\n",
    "    run_view_type=ViewType.ACTIVE_ONLY,\n",
    "    max_results=1,\n",
    "    order_by=[\"metrics.test_accuracy_mean DESC\"],\n",
    ")\n",
    "print(run[0].data.metrics[\"test_accuracy_mean\"])"
   ]
  },
  {
   "cell_type": "markdown",
   "id": "3f5b1fff",
   "metadata": {},
   "source": [
    "**Run inference on model from Registry**"
   ]
  },
  {
   "cell_type": "code",
   "execution_count": 21,
   "id": "f2da02ab",
   "metadata": {},
   "outputs": [
    {
     "name": "stdout",
     "output_type": "stream",
     "text": [
      "[1]\n"
     ]
    }
   ],
   "source": [
    "import mlflow\n",
    "import numpy as np\n",
    "import random\n",
    "\n",
    "model_name = \"CLF Model\"\n",
    "model_version = 1\n",
    "\n",
    "\n",
    "# model can be loaded either way\n",
    "model = mlflow.sklearn.load_model(model_uri=f\"models:/{model_name}/{model_version}\")\n",
    "#model = mlflow.pyfunc.load_model(model_uri=f\"models:/{model_name}/{model_version}\")\n",
    "\n",
    "data = [random.uniform(0, 1) for a in range(26467)]\n",
    "\n",
    "print(model.predict(np.array([data])))"
   ]
  },
  {
   "cell_type": "code",
   "execution_count": 18,
   "id": "50f49cb5",
   "metadata": {},
   "outputs": [
    {
     "name": "stdout",
     "output_type": "stream",
     "text": [
      "XGBClassifier(base_score=None, booster=None, callbacks=None,\n",
      "              colsample_bylevel=None, colsample_bynode=None,\n",
      "              colsample_bytree=None, early_stopping_rounds=None,\n",
      "              enable_categorical=False, eval_metric=None, feature_types=None,\n",
      "              gamma=None, gpu_id=None, grow_policy=None, importance_type=None,\n",
      "              interaction_constraints=None, learning_rate=None, max_bin=None,\n",
      "              max_cat_threshold=None, max_cat_to_onehot=None,\n",
      "              max_delta_step=None, max_depth=None, max_leaves=None,\n",
      "              min_child_weight=None, missing=nan, monotone_constraints=None,\n",
      "              n_estimators=100, n_jobs=10, num_parallel_tree=None,\n",
      "              predictor='cpu_predictor', random_state=None, ...)\n"
     ]
    }
   ],
   "source": [
    "print(model)"
   ]
  },
  {
   "cell_type": "code",
   "execution_count": 17,
   "id": "78025471",
   "metadata": {},
   "outputs": [
    {
     "name": "stderr",
     "output_type": "stream",
     "text": [
      "2023/08/02 16:24:25 INFO mlflow.pyfunc: To install the dependencies that were used to train the model, run the following command: '%pip install -r /var/folders/jq/lt0dyzf14y93d8k18k68_4fm0000gn/T/tmp2r21_wzn/requirements.txt'.\n"
     ]
    },
    {
     "data": {
      "text/plain": [
       "'/var/folders/jq/lt0dyzf14y93d8k18k68_4fm0000gn/T/tmp2r21_wzn/requirements.txt'"
      ]
     },
     "execution_count": 17,
     "metadata": {},
     "output_type": "execute_result"
    }
   ],
   "source": [
    "mlflow.pyfunc.get_model_dependencies(model_uri=f\"models:/{model_name}/{model_version}\")"
   ]
  },
  {
   "cell_type": "code",
   "execution_count": 18,
   "id": "2a54e540",
   "metadata": {},
   "outputs": [
    {
     "name": "stdout",
     "output_type": "stream",
     "text": [
      "Requirement already satisfied: mlflow==2.5.0 in ./venv/lib/python3.9/site-packages (from -r /var/folders/jq/lt0dyzf14y93d8k18k68_4fm0000gn/T/tmp2r21_wzn/requirements.txt (line 1)) (2.5.0)\n",
      "Requirement already satisfied: cloudpickle==2.2.1 in ./venv/lib/python3.9/site-packages (from -r /var/folders/jq/lt0dyzf14y93d8k18k68_4fm0000gn/T/tmp2r21_wzn/requirements.txt (line 2)) (2.2.1)\n",
      "Requirement already satisfied: numpy==1.22.4 in ./venv/lib/python3.9/site-packages (from -r /var/folders/jq/lt0dyzf14y93d8k18k68_4fm0000gn/T/tmp2r21_wzn/requirements.txt (line 3)) (1.22.4)\n",
      "Requirement already satisfied: pandas==2.0.3 in ./venv/lib/python3.9/site-packages (from -r /var/folders/jq/lt0dyzf14y93d8k18k68_4fm0000gn/T/tmp2r21_wzn/requirements.txt (line 4)) (2.0.3)\n",
      "Requirement already satisfied: psutil==5.9.5 in ./venv/lib/python3.9/site-packages (from -r /var/folders/jq/lt0dyzf14y93d8k18k68_4fm0000gn/T/tmp2r21_wzn/requirements.txt (line 5)) (5.9.5)\n",
      "Requirement already satisfied: scikit-learn==1.1.3 in ./venv/lib/python3.9/site-packages (from -r /var/folders/jq/lt0dyzf14y93d8k18k68_4fm0000gn/T/tmp2r21_wzn/requirements.txt (line 6)) (1.1.3)\n",
      "Requirement already satisfied: scipy==1.11.1 in ./venv/lib/python3.9/site-packages (from -r /var/folders/jq/lt0dyzf14y93d8k18k68_4fm0000gn/T/tmp2r21_wzn/requirements.txt (line 7)) (1.11.1)\n",
      "Requirement already satisfied: xgboost==1.7.6 in ./venv/lib/python3.9/site-packages (from -r /var/folders/jq/lt0dyzf14y93d8k18k68_4fm0000gn/T/tmp2r21_wzn/requirements.txt (line 8)) (1.7.6)\n",
      "Requirement already satisfied: querystring-parser<2 in ./venv/lib/python3.9/site-packages (from mlflow==2.5.0->-r /var/folders/jq/lt0dyzf14y93d8k18k68_4fm0000gn/T/tmp2r21_wzn/requirements.txt (line 1)) (1.2.4)\n",
      "Requirement already satisfied: click<9,>=7.0 in ./venv/lib/python3.9/site-packages (from mlflow==2.5.0->-r /var/folders/jq/lt0dyzf14y93d8k18k68_4fm0000gn/T/tmp2r21_wzn/requirements.txt (line 1)) (8.1.6)\n",
      "Requirement already satisfied: databricks-cli<1,>=0.8.7 in ./venv/lib/python3.9/site-packages (from mlflow==2.5.0->-r /var/folders/jq/lt0dyzf14y93d8k18k68_4fm0000gn/T/tmp2r21_wzn/requirements.txt (line 1)) (0.17.7)\n",
      "Requirement already satisfied: alembic!=1.10.0,<2 in ./venv/lib/python3.9/site-packages (from mlflow==2.5.0->-r /var/folders/jq/lt0dyzf14y93d8k18k68_4fm0000gn/T/tmp2r21_wzn/requirements.txt (line 1)) (1.11.1)\n",
      "Requirement already satisfied: importlib-metadata!=4.7.0,<7,>=3.7.0 in ./venv/lib/python3.9/site-packages (from mlflow==2.5.0->-r /var/folders/jq/lt0dyzf14y93d8k18k68_4fm0000gn/T/tmp2r21_wzn/requirements.txt (line 1)) (6.8.0)\n",
      "Requirement already satisfied: docker<7,>=4.0.0 in ./venv/lib/python3.9/site-packages (from mlflow==2.5.0->-r /var/folders/jq/lt0dyzf14y93d8k18k68_4fm0000gn/T/tmp2r21_wzn/requirements.txt (line 1)) (6.1.3)\n",
      "Requirement already satisfied: sqlalchemy<3,>=1.4.0 in ./venv/lib/python3.9/site-packages (from mlflow==2.5.0->-r /var/folders/jq/lt0dyzf14y93d8k18k68_4fm0000gn/T/tmp2r21_wzn/requirements.txt (line 1)) (2.0.19)\n",
      "Requirement already satisfied: Flask<3 in ./venv/lib/python3.9/site-packages (from mlflow==2.5.0->-r /var/folders/jq/lt0dyzf14y93d8k18k68_4fm0000gn/T/tmp2r21_wzn/requirements.txt (line 1)) (2.3.2)\n",
      "Requirement already satisfied: gunicorn<21 in ./venv/lib/python3.9/site-packages (from mlflow==2.5.0->-r /var/folders/jq/lt0dyzf14y93d8k18k68_4fm0000gn/T/tmp2r21_wzn/requirements.txt (line 1)) (20.1.0)\n",
      "Requirement already satisfied: matplotlib<4 in ./venv/lib/python3.9/site-packages (from mlflow==2.5.0->-r /var/folders/jq/lt0dyzf14y93d8k18k68_4fm0000gn/T/tmp2r21_wzn/requirements.txt (line 1)) (3.7.2)\n",
      "Requirement already satisfied: pytz<2024 in ./venv/lib/python3.9/site-packages (from mlflow==2.5.0->-r /var/folders/jq/lt0dyzf14y93d8k18k68_4fm0000gn/T/tmp2r21_wzn/requirements.txt (line 1)) (2023.3)\n",
      "Requirement already satisfied: requests<3,>=2.17.3 in ./venv/lib/python3.9/site-packages (from mlflow==2.5.0->-r /var/folders/jq/lt0dyzf14y93d8k18k68_4fm0000gn/T/tmp2r21_wzn/requirements.txt (line 1)) (2.31.0)\n",
      "Requirement already satisfied: packaging<24 in ./venv/lib/python3.9/site-packages (from mlflow==2.5.0->-r /var/folders/jq/lt0dyzf14y93d8k18k68_4fm0000gn/T/tmp2r21_wzn/requirements.txt (line 1)) (23.1)\n",
      "Requirement already satisfied: markdown<4,>=3.3 in ./venv/lib/python3.9/site-packages (from mlflow==2.5.0->-r /var/folders/jq/lt0dyzf14y93d8k18k68_4fm0000gn/T/tmp2r21_wzn/requirements.txt (line 1)) (3.4.4)\n",
      "Requirement already satisfied: pyarrow<13,>=4.0.0 in ./venv/lib/python3.9/site-packages (from mlflow==2.5.0->-r /var/folders/jq/lt0dyzf14y93d8k18k68_4fm0000gn/T/tmp2r21_wzn/requirements.txt (line 1)) (12.0.1)\n",
      "Requirement already satisfied: entrypoints<1 in ./venv/lib/python3.9/site-packages (from mlflow==2.5.0->-r /var/folders/jq/lt0dyzf14y93d8k18k68_4fm0000gn/T/tmp2r21_wzn/requirements.txt (line 1)) (0.4)\n",
      "Requirement already satisfied: Jinja2<4,>=2.11 in ./venv/lib/python3.9/site-packages (from mlflow==2.5.0->-r /var/folders/jq/lt0dyzf14y93d8k18k68_4fm0000gn/T/tmp2r21_wzn/requirements.txt (line 1)) (3.1.2)\n",
      "Requirement already satisfied: protobuf<5,>=3.12.0 in ./venv/lib/python3.9/site-packages (from mlflow==2.5.0->-r /var/folders/jq/lt0dyzf14y93d8k18k68_4fm0000gn/T/tmp2r21_wzn/requirements.txt (line 1)) (4.23.4)\n",
      "Requirement already satisfied: gitpython<4,>=2.1.0 in ./venv/lib/python3.9/site-packages (from mlflow==2.5.0->-r /var/folders/jq/lt0dyzf14y93d8k18k68_4fm0000gn/T/tmp2r21_wzn/requirements.txt (line 1)) (3.1.32)\n",
      "Requirement already satisfied: pyyaml<7,>=5.1 in ./venv/lib/python3.9/site-packages (from mlflow==2.5.0->-r /var/folders/jq/lt0dyzf14y93d8k18k68_4fm0000gn/T/tmp2r21_wzn/requirements.txt (line 1)) (6.0.1)\n",
      "Requirement already satisfied: sqlparse<1,>=0.4.0 in ./venv/lib/python3.9/site-packages (from mlflow==2.5.0->-r /var/folders/jq/lt0dyzf14y93d8k18k68_4fm0000gn/T/tmp2r21_wzn/requirements.txt (line 1)) (0.4.4)\n",
      "Requirement already satisfied: python-dateutil>=2.8.2 in ./venv/lib/python3.9/site-packages (from pandas==2.0.3->-r /var/folders/jq/lt0dyzf14y93d8k18k68_4fm0000gn/T/tmp2r21_wzn/requirements.txt (line 4)) (2.8.2)\n",
      "Requirement already satisfied: tzdata>=2022.1 in ./venv/lib/python3.9/site-packages (from pandas==2.0.3->-r /var/folders/jq/lt0dyzf14y93d8k18k68_4fm0000gn/T/tmp2r21_wzn/requirements.txt (line 4)) (2023.3)\n",
      "Requirement already satisfied: joblib>=1.0.0 in ./venv/lib/python3.9/site-packages (from scikit-learn==1.1.3->-r /var/folders/jq/lt0dyzf14y93d8k18k68_4fm0000gn/T/tmp2r21_wzn/requirements.txt (line 6)) (1.3.1)\n",
      "Requirement already satisfied: threadpoolctl>=2.0.0 in ./venv/lib/python3.9/site-packages (from scikit-learn==1.1.3->-r /var/folders/jq/lt0dyzf14y93d8k18k68_4fm0000gn/T/tmp2r21_wzn/requirements.txt (line 6)) (3.2.0)\n",
      "Requirement already satisfied: typing-extensions>=4 in ./venv/lib/python3.9/site-packages (from alembic!=1.10.0,<2->mlflow==2.5.0->-r /var/folders/jq/lt0dyzf14y93d8k18k68_4fm0000gn/T/tmp2r21_wzn/requirements.txt (line 1)) (4.7.1)\n",
      "Requirement already satisfied: Mako in ./venv/lib/python3.9/site-packages (from alembic!=1.10.0,<2->mlflow==2.5.0->-r /var/folders/jq/lt0dyzf14y93d8k18k68_4fm0000gn/T/tmp2r21_wzn/requirements.txt (line 1)) (1.2.4)\n",
      "Requirement already satisfied: pyjwt>=1.7.0 in ./venv/lib/python3.9/site-packages (from databricks-cli<1,>=0.8.7->mlflow==2.5.0->-r /var/folders/jq/lt0dyzf14y93d8k18k68_4fm0000gn/T/tmp2r21_wzn/requirements.txt (line 1)) (2.8.0)\n",
      "Requirement already satisfied: oauthlib>=3.1.0 in ./venv/lib/python3.9/site-packages (from databricks-cli<1,>=0.8.7->mlflow==2.5.0->-r /var/folders/jq/lt0dyzf14y93d8k18k68_4fm0000gn/T/tmp2r21_wzn/requirements.txt (line 1)) (3.2.2)\n",
      "Requirement already satisfied: tabulate>=0.7.7 in ./venv/lib/python3.9/site-packages (from databricks-cli<1,>=0.8.7->mlflow==2.5.0->-r /var/folders/jq/lt0dyzf14y93d8k18k68_4fm0000gn/T/tmp2r21_wzn/requirements.txt (line 1)) (0.9.0)\n",
      "Requirement already satisfied: six>=1.10.0 in ./venv/lib/python3.9/site-packages (from databricks-cli<1,>=0.8.7->mlflow==2.5.0->-r /var/folders/jq/lt0dyzf14y93d8k18k68_4fm0000gn/T/tmp2r21_wzn/requirements.txt (line 1)) (1.16.0)\n",
      "Requirement already satisfied: urllib3<2.0.0,>=1.26.7 in ./venv/lib/python3.9/site-packages (from databricks-cli<1,>=0.8.7->mlflow==2.5.0->-r /var/folders/jq/lt0dyzf14y93d8k18k68_4fm0000gn/T/tmp2r21_wzn/requirements.txt (line 1)) (1.26.16)\n",
      "Requirement already satisfied: websocket-client>=0.32.0 in ./venv/lib/python3.9/site-packages (from docker<7,>=4.0.0->mlflow==2.5.0->-r /var/folders/jq/lt0dyzf14y93d8k18k68_4fm0000gn/T/tmp2r21_wzn/requirements.txt (line 1)) (1.6.1)\n",
      "Requirement already satisfied: itsdangerous>=2.1.2 in ./venv/lib/python3.9/site-packages (from Flask<3->mlflow==2.5.0->-r /var/folders/jq/lt0dyzf14y93d8k18k68_4fm0000gn/T/tmp2r21_wzn/requirements.txt (line 1)) (2.1.2)\n",
      "Requirement already satisfied: blinker>=1.6.2 in ./venv/lib/python3.9/site-packages (from Flask<3->mlflow==2.5.0->-r /var/folders/jq/lt0dyzf14y93d8k18k68_4fm0000gn/T/tmp2r21_wzn/requirements.txt (line 1)) (1.6.2)\n",
      "Requirement already satisfied: Werkzeug>=2.3.3 in ./venv/lib/python3.9/site-packages (from Flask<3->mlflow==2.5.0->-r /var/folders/jq/lt0dyzf14y93d8k18k68_4fm0000gn/T/tmp2r21_wzn/requirements.txt (line 1)) (2.3.6)\n",
      "Requirement already satisfied: gitdb<5,>=4.0.1 in ./venv/lib/python3.9/site-packages (from gitpython<4,>=2.1.0->mlflow==2.5.0->-r /var/folders/jq/lt0dyzf14y93d8k18k68_4fm0000gn/T/tmp2r21_wzn/requirements.txt (line 1)) (4.0.10)\n",
      "Requirement already satisfied: setuptools>=3.0 in ./venv/lib/python3.9/site-packages (from gunicorn<21->mlflow==2.5.0->-r /var/folders/jq/lt0dyzf14y93d8k18k68_4fm0000gn/T/tmp2r21_wzn/requirements.txt (line 1)) (58.1.0)\n",
      "Requirement already satisfied: zipp>=0.5 in ./venv/lib/python3.9/site-packages (from importlib-metadata!=4.7.0,<7,>=3.7.0->mlflow==2.5.0->-r /var/folders/jq/lt0dyzf14y93d8k18k68_4fm0000gn/T/tmp2r21_wzn/requirements.txt (line 1)) (3.16.2)\n",
      "Requirement already satisfied: MarkupSafe>=2.0 in ./venv/lib/python3.9/site-packages (from Jinja2<4,>=2.11->mlflow==2.5.0->-r /var/folders/jq/lt0dyzf14y93d8k18k68_4fm0000gn/T/tmp2r21_wzn/requirements.txt (line 1)) (2.1.3)\n",
      "Requirement already satisfied: pillow>=6.2.0 in ./venv/lib/python3.9/site-packages (from matplotlib<4->mlflow==2.5.0->-r /var/folders/jq/lt0dyzf14y93d8k18k68_4fm0000gn/T/tmp2r21_wzn/requirements.txt (line 1)) (10.0.0)\n",
      "Requirement already satisfied: importlib-resources>=3.2.0 in ./venv/lib/python3.9/site-packages (from matplotlib<4->mlflow==2.5.0->-r /var/folders/jq/lt0dyzf14y93d8k18k68_4fm0000gn/T/tmp2r21_wzn/requirements.txt (line 1)) (6.0.0)\n",
      "Requirement already satisfied: pyparsing<3.1,>=2.3.1 in ./venv/lib/python3.9/site-packages (from matplotlib<4->mlflow==2.5.0->-r /var/folders/jq/lt0dyzf14y93d8k18k68_4fm0000gn/T/tmp2r21_wzn/requirements.txt (line 1)) (3.0.9)\n",
      "Requirement already satisfied: fonttools>=4.22.0 in ./venv/lib/python3.9/site-packages (from matplotlib<4->mlflow==2.5.0->-r /var/folders/jq/lt0dyzf14y93d8k18k68_4fm0000gn/T/tmp2r21_wzn/requirements.txt (line 1)) (4.41.1)\n",
      "Requirement already satisfied: kiwisolver>=1.0.1 in ./venv/lib/python3.9/site-packages (from matplotlib<4->mlflow==2.5.0->-r /var/folders/jq/lt0dyzf14y93d8k18k68_4fm0000gn/T/tmp2r21_wzn/requirements.txt (line 1)) (1.4.4)\n",
      "Requirement already satisfied: contourpy>=1.0.1 in ./venv/lib/python3.9/site-packages (from matplotlib<4->mlflow==2.5.0->-r /var/folders/jq/lt0dyzf14y93d8k18k68_4fm0000gn/T/tmp2r21_wzn/requirements.txt (line 1)) (1.1.0)\n",
      "Requirement already satisfied: cycler>=0.10 in ./venv/lib/python3.9/site-packages (from matplotlib<4->mlflow==2.5.0->-r /var/folders/jq/lt0dyzf14y93d8k18k68_4fm0000gn/T/tmp2r21_wzn/requirements.txt (line 1)) (0.11.0)\n"
     ]
    },
    {
     "name": "stdout",
     "output_type": "stream",
     "text": [
      "Requirement already satisfied: idna<4,>=2.5 in ./venv/lib/python3.9/site-packages (from requests<3,>=2.17.3->mlflow==2.5.0->-r /var/folders/jq/lt0dyzf14y93d8k18k68_4fm0000gn/T/tmp2r21_wzn/requirements.txt (line 1)) (3.4)\n",
      "Requirement already satisfied: certifi>=2017.4.17 in ./venv/lib/python3.9/site-packages (from requests<3,>=2.17.3->mlflow==2.5.0->-r /var/folders/jq/lt0dyzf14y93d8k18k68_4fm0000gn/T/tmp2r21_wzn/requirements.txt (line 1)) (2023.7.22)\n",
      "Requirement already satisfied: charset-normalizer<4,>=2 in ./venv/lib/python3.9/site-packages (from requests<3,>=2.17.3->mlflow==2.5.0->-r /var/folders/jq/lt0dyzf14y93d8k18k68_4fm0000gn/T/tmp2r21_wzn/requirements.txt (line 1)) (3.2.0)\n",
      "Requirement already satisfied: smmap<6,>=3.0.1 in ./venv/lib/python3.9/site-packages (from gitdb<5,>=4.0.1->gitpython<4,>=2.1.0->mlflow==2.5.0->-r /var/folders/jq/lt0dyzf14y93d8k18k68_4fm0000gn/T/tmp2r21_wzn/requirements.txt (line 1)) (5.0.0)\n",
      "\u001b[33mWARNING: You are using pip version 22.0.4; however, version 23.2.1 is available.\n",
      "You should consider upgrading via the '/Users/Rrando/Documents/GitHub/mlops-platform-spike-library/bugbug/mlflow/venv/bin/python3 -m pip install --upgrade pip' command.\u001b[0m\u001b[33m\n",
      "\u001b[0m"
     ]
    }
   ],
   "source": [
    "!pip install -r /var/folders/jq/lt0dyzf14y93d8k18k68_4fm0000gn/T/tmp2r21_wzn/requirements.txt"
   ]
  },
  {
   "cell_type": "code",
   "execution_count": null,
   "id": "63f020c0",
   "metadata": {},
   "outputs": [],
   "source": []
  }
 ],
 "metadata": {
  "kernelspec": {
   "display_name": "Python 3 (ipykernel)",
   "language": "python",
   "name": "python3"
  },
  "language_info": {
   "codemirror_mode": {
    "name": "ipython",
    "version": 3
   },
   "file_extension": ".py",
   "mimetype": "text/x-python",
   "name": "python",
   "nbconvert_exporter": "python",
   "pygments_lexer": "ipython3",
   "version": "3.9.13"
  }
 },
 "nbformat": 4,
 "nbformat_minor": 5
}
