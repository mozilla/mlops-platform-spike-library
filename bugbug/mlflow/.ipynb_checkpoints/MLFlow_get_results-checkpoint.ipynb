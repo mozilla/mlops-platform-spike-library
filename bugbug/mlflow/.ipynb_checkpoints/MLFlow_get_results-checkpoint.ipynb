{
 "cells": [
  {
   "cell_type": "code",
   "execution_count": 18,
   "id": "f400d17c",
   "metadata": {},
   "outputs": [
    {
     "name": "stdout",
     "output_type": "stream",
     "text": [
      "Trying to set uri to https://mlflow-dot-moz-fx-dev-ctroy-ml-ops-spikes.ew.r.appspot.com\n",
      "Tracking uri set to https://mlflow-dot-moz-fx-dev-ctroy-ml-ops-spikes.ew.r.appspot.com\n",
      "0.9925540811738708\n"
     ]
    }
   ],
   "source": [
    "from mlflow import MlflowClient\n",
    "from mlflow.entities import ViewType\n",
    "\n",
    "from bugbug.trackers.mlflow_config import tracking_uri\n",
    "\n",
    "run = MlflowClient(registry_uri=\"gs://oneclick-mlflow-store-f8bf20e5c6\", tracking_uri=tracking_uri).search_runs(\n",
    "    experiment_ids=\"2\",\n",
    "    filter_string=\"\",\n",
    "    run_view_type=ViewType.ACTIVE_ONLY,\n",
    "    max_results=1,\n",
    "    order_by=[\"metrics.test_accuracy_mean DESC\"],\n",
    ")\n",
    "print(run[0].data.metrics[\"test_accuracy_mean\"])"
   ]
  },
  {
   "cell_type": "markdown",
   "id": "de194ea6",
   "metadata": {},
   "source": [
    "**Run inference on model from Registry**"
   ]
  },
  {
   "cell_type": "code",
   "execution_count": 1,
   "id": "c6de15a4",
   "metadata": {},
   "outputs": [
    {
     "ename": "MlflowException",
     "evalue": "Registered Model with name=CLF Model not found",
     "output_type": "error",
     "traceback": [
      "\u001b[0;31m---------------------------------------------------------------------------\u001b[0m",
      "\u001b[0;31mMlflowException\u001b[0m                           Traceback (most recent call last)",
      "Input \u001b[0;32mIn [1]\u001b[0m, in \u001b[0;36m<cell line: 10>\u001b[0;34m()\u001b[0m\n\u001b[1;32m      6\u001b[0m model_version \u001b[38;5;241m=\u001b[39m \u001b[38;5;241m1\u001b[39m\n\u001b[1;32m      9\u001b[0m \u001b[38;5;66;03m# model can be loaded either way\u001b[39;00m\n\u001b[0;32m---> 10\u001b[0m model \u001b[38;5;241m=\u001b[39m \u001b[43mmlflow\u001b[49m\u001b[38;5;241;43m.\u001b[39;49m\u001b[43msklearn\u001b[49m\u001b[38;5;241;43m.\u001b[39;49m\u001b[43mload_model\u001b[49m\u001b[43m(\u001b[49m\u001b[43mmodel_uri\u001b[49m\u001b[38;5;241;43m=\u001b[39;49m\u001b[38;5;124;43mf\u001b[39;49m\u001b[38;5;124;43m\"\u001b[39;49m\u001b[38;5;124;43mmodels:/\u001b[39;49m\u001b[38;5;132;43;01m{\u001b[39;49;00m\u001b[43mmodel_name\u001b[49m\u001b[38;5;132;43;01m}\u001b[39;49;00m\u001b[38;5;124;43m/\u001b[39;49m\u001b[38;5;132;43;01m{\u001b[39;49;00m\u001b[43mmodel_version\u001b[49m\u001b[38;5;132;43;01m}\u001b[39;49;00m\u001b[38;5;124;43m\"\u001b[39;49m\u001b[43m)\u001b[49m\n\u001b[1;32m     11\u001b[0m \u001b[38;5;66;03m#model = mlflow.pyfunc.load_model(model_uri=f\"models:/{model_name}/{model_version}\")\u001b[39;00m\n\u001b[1;32m     13\u001b[0m data \u001b[38;5;241m=\u001b[39m [random\u001b[38;5;241m.\u001b[39muniform(\u001b[38;5;241m0\u001b[39m, \u001b[38;5;241m1\u001b[39m) \u001b[38;5;28;01mfor\u001b[39;00m a \u001b[38;5;129;01min\u001b[39;00m \u001b[38;5;28mrange\u001b[39m(\u001b[38;5;241m26467\u001b[39m)]\n",
      "File \u001b[0;32m/opt/anaconda3/lib/python3.9/site-packages/mlflow/sklearn/__init__.py:597\u001b[0m, in \u001b[0;36mload_model\u001b[0;34m(model_uri, dst_path)\u001b[0m\n\u001b[1;32m    564\u001b[0m \u001b[38;5;28;01mdef\u001b[39;00m \u001b[38;5;21mload_model\u001b[39m(model_uri, dst_path\u001b[38;5;241m=\u001b[39m\u001b[38;5;28;01mNone\u001b[39;00m):\n\u001b[1;32m    565\u001b[0m \u001b[38;5;250m    \u001b[39m\u001b[38;5;124;03m\"\"\"\u001b[39;00m\n\u001b[1;32m    566\u001b[0m \u001b[38;5;124;03m    Load a scikit-learn model from a local file or a run.\u001b[39;00m\n\u001b[1;32m    567\u001b[0m \n\u001b[0;32m   (...)\u001b[0m\n\u001b[1;32m    595\u001b[0m \u001b[38;5;124;03m        predictions = sk_model.predict(pandas_df)\u001b[39;00m\n\u001b[1;32m    596\u001b[0m \u001b[38;5;124;03m    \"\"\"\u001b[39;00m\n\u001b[0;32m--> 597\u001b[0m     local_model_path \u001b[38;5;241m=\u001b[39m \u001b[43m_download_artifact_from_uri\u001b[49m\u001b[43m(\u001b[49m\u001b[43martifact_uri\u001b[49m\u001b[38;5;241;43m=\u001b[39;49m\u001b[43mmodel_uri\u001b[49m\u001b[43m,\u001b[49m\u001b[43m \u001b[49m\u001b[43moutput_path\u001b[49m\u001b[38;5;241;43m=\u001b[39;49m\u001b[43mdst_path\u001b[49m\u001b[43m)\u001b[49m\n\u001b[1;32m    598\u001b[0m     flavor_conf \u001b[38;5;241m=\u001b[39m _get_flavor_configuration(model_path\u001b[38;5;241m=\u001b[39mlocal_model_path, flavor_name\u001b[38;5;241m=\u001b[39mFLAVOR_NAME)\n\u001b[1;32m    599\u001b[0m     _add_code_from_conf_to_system_path(local_model_path, flavor_conf)\n",
      "File \u001b[0;32m/opt/anaconda3/lib/python3.9/site-packages/mlflow/tracking/artifact_utils.py:100\u001b[0m, in \u001b[0;36m_download_artifact_from_uri\u001b[0;34m(artifact_uri, output_path)\u001b[0m\n\u001b[1;32m     94\u001b[0m \u001b[38;5;250m\u001b[39m\u001b[38;5;124;03m\"\"\"\u001b[39;00m\n\u001b[1;32m     95\u001b[0m \u001b[38;5;124;03m:param artifact_uri: The *absolute* URI of the artifact to download.\u001b[39;00m\n\u001b[1;32m     96\u001b[0m \u001b[38;5;124;03m:param output_path: The local filesystem path to which to download the artifact. If unspecified,\u001b[39;00m\n\u001b[1;32m     97\u001b[0m \u001b[38;5;124;03m                    a local output path will be created.\u001b[39;00m\n\u001b[1;32m     98\u001b[0m \u001b[38;5;124;03m\"\"\"\u001b[39;00m\n\u001b[1;32m     99\u001b[0m root_uri, artifact_path \u001b[38;5;241m=\u001b[39m _get_root_uri_and_artifact_path(artifact_uri)\n\u001b[0;32m--> 100\u001b[0m \u001b[38;5;28;01mreturn\u001b[39;00m \u001b[43mget_artifact_repository\u001b[49m\u001b[43m(\u001b[49m\u001b[43martifact_uri\u001b[49m\u001b[38;5;241;43m=\u001b[39;49m\u001b[43mroot_uri\u001b[49m\u001b[43m)\u001b[49m\u001b[38;5;241m.\u001b[39mdownload_artifacts(\n\u001b[1;32m    101\u001b[0m     artifact_path\u001b[38;5;241m=\u001b[39martifact_path, dst_path\u001b[38;5;241m=\u001b[39moutput_path\n\u001b[1;32m    102\u001b[0m )\n",
      "File \u001b[0;32m/opt/anaconda3/lib/python3.9/site-packages/mlflow/store/artifact/artifact_repository_registry.py:106\u001b[0m, in \u001b[0;36mget_artifact_repository\u001b[0;34m(artifact_uri)\u001b[0m\n\u001b[1;32m     96\u001b[0m \u001b[38;5;28;01mdef\u001b[39;00m \u001b[38;5;21mget_artifact_repository\u001b[39m(artifact_uri):\n\u001b[1;32m     97\u001b[0m \u001b[38;5;250m    \u001b[39m\u001b[38;5;124;03m\"\"\"Get an artifact repository from the registry based on the scheme of artifact_uri\u001b[39;00m\n\u001b[1;32m     98\u001b[0m \n\u001b[1;32m     99\u001b[0m \u001b[38;5;124;03m    :param artifact_uri: The artifact store URI. This URI is used to select which artifact\u001b[39;00m\n\u001b[0;32m   (...)\u001b[0m\n\u001b[1;32m    104\u001b[0m \u001b[38;5;124;03m             requirements.\u001b[39;00m\n\u001b[1;32m    105\u001b[0m \u001b[38;5;124;03m    \"\"\"\u001b[39;00m\n\u001b[0;32m--> 106\u001b[0m     \u001b[38;5;28;01mreturn\u001b[39;00m \u001b[43m_artifact_repository_registry\u001b[49m\u001b[38;5;241;43m.\u001b[39;49m\u001b[43mget_artifact_repository\u001b[49m\u001b[43m(\u001b[49m\u001b[43martifact_uri\u001b[49m\u001b[43m)\u001b[49m\n",
      "File \u001b[0;32m/opt/anaconda3/lib/python3.9/site-packages/mlflow/store/artifact/artifact_repository_registry.py:72\u001b[0m, in \u001b[0;36mArtifactRepositoryRegistry.get_artifact_repository\u001b[0;34m(self, artifact_uri)\u001b[0m\n\u001b[1;32m     65\u001b[0m \u001b[38;5;28;01mif\u001b[39;00m repository \u001b[38;5;129;01mis\u001b[39;00m \u001b[38;5;28;01mNone\u001b[39;00m:\n\u001b[1;32m     66\u001b[0m     \u001b[38;5;28;01mraise\u001b[39;00m MlflowException(\n\u001b[1;32m     67\u001b[0m         \u001b[38;5;124m\"\u001b[39m\u001b[38;5;124mCould not find a registered artifact repository for: \u001b[39m\u001b[38;5;132;01m{}\u001b[39;00m\u001b[38;5;124m. \u001b[39m\u001b[38;5;124m\"\u001b[39m\n\u001b[1;32m     68\u001b[0m         \u001b[38;5;124m\"\u001b[39m\u001b[38;5;124mCurrently registered schemes are: \u001b[39m\u001b[38;5;132;01m{}\u001b[39;00m\u001b[38;5;124m\"\u001b[39m\u001b[38;5;241m.\u001b[39mformat(\n\u001b[1;32m     69\u001b[0m             artifact_uri, \u001b[38;5;28mlist\u001b[39m(\u001b[38;5;28mself\u001b[39m\u001b[38;5;241m.\u001b[39m_registry\u001b[38;5;241m.\u001b[39mkeys())\n\u001b[1;32m     70\u001b[0m         )\n\u001b[1;32m     71\u001b[0m     )\n\u001b[0;32m---> 72\u001b[0m \u001b[38;5;28;01mreturn\u001b[39;00m \u001b[43mrepository\u001b[49m\u001b[43m(\u001b[49m\u001b[43martifact_uri\u001b[49m\u001b[43m)\u001b[49m\n",
      "File \u001b[0;32m/opt/anaconda3/lib/python3.9/site-packages/mlflow/store/artifact/models_artifact_repo.py:35\u001b[0m, in \u001b[0;36mModelsArtifactRepository.__init__\u001b[0;34m(self, artifact_uri)\u001b[0m\n\u001b[1;32m     33\u001b[0m     \u001b[38;5;28mself\u001b[39m\u001b[38;5;241m.\u001b[39mrepo \u001b[38;5;241m=\u001b[39m DatabricksModelsArtifactRepository(artifact_uri)\n\u001b[1;32m     34\u001b[0m \u001b[38;5;28;01melse\u001b[39;00m:\n\u001b[0;32m---> 35\u001b[0m     uri \u001b[38;5;241m=\u001b[39m \u001b[43mModelsArtifactRepository\u001b[49m\u001b[38;5;241;43m.\u001b[39;49m\u001b[43mget_underlying_uri\u001b[49m\u001b[43m(\u001b[49m\u001b[43martifact_uri\u001b[49m\u001b[43m)\u001b[49m\n\u001b[1;32m     36\u001b[0m     \u001b[38;5;28mself\u001b[39m\u001b[38;5;241m.\u001b[39mrepo \u001b[38;5;241m=\u001b[39m get_artifact_repository(uri)\n",
      "File \u001b[0;32m/opt/anaconda3/lib/python3.9/site-packages/mlflow/store/artifact/models_artifact_repo.py:70\u001b[0m, in \u001b[0;36mModelsArtifactRepository.get_underlying_uri\u001b[0;34m(uri)\u001b[0m\n\u001b[1;32m     68\u001b[0m client \u001b[38;5;241m=\u001b[39m MlflowClient(registry_uri\u001b[38;5;241m=\u001b[39mdatabricks_profile_uri)\n\u001b[1;32m     69\u001b[0m (name, version) \u001b[38;5;241m=\u001b[39m get_model_name_and_version(client, uri)\n\u001b[0;32m---> 70\u001b[0m download_uri \u001b[38;5;241m=\u001b[39m \u001b[43mclient\u001b[49m\u001b[38;5;241;43m.\u001b[39;49m\u001b[43mget_model_version_download_uri\u001b[49m\u001b[43m(\u001b[49m\u001b[43mname\u001b[49m\u001b[43m,\u001b[49m\u001b[43m \u001b[49m\u001b[43mversion\u001b[49m\u001b[43m)\u001b[49m\n\u001b[1;32m     71\u001b[0m \u001b[38;5;28;01mreturn\u001b[39;00m add_databricks_profile_info_to_artifact_uri(download_uri, databricks_profile_uri)\n",
      "File \u001b[0;32m/opt/anaconda3/lib/python3.9/site-packages/mlflow/tracking/client.py:2627\u001b[0m, in \u001b[0;36mMlflowClient.get_model_version_download_uri\u001b[0;34m(self, name, version)\u001b[0m\n\u001b[1;32m   2587\u001b[0m \u001b[38;5;28;01mdef\u001b[39;00m \u001b[38;5;21mget_model_version_download_uri\u001b[39m(\u001b[38;5;28mself\u001b[39m, name: \u001b[38;5;28mstr\u001b[39m, version: \u001b[38;5;28mstr\u001b[39m) \u001b[38;5;241m-\u001b[39m\u001b[38;5;241m>\u001b[39m \u001b[38;5;28mstr\u001b[39m:\n\u001b[1;32m   2588\u001b[0m \u001b[38;5;250m    \u001b[39m\u001b[38;5;124;03m\"\"\"\u001b[39;00m\n\u001b[1;32m   2589\u001b[0m \u001b[38;5;124;03m    Get the download location in Model Registry for this model version.\u001b[39;00m\n\u001b[1;32m   2590\u001b[0m \n\u001b[0;32m   (...)\u001b[0m\n\u001b[1;32m   2625\u001b[0m \u001b[38;5;124;03m        Download URI: runs:/44e04097ac364cd895f2039eaccca9ac/models/sklearn-model\u001b[39;00m\n\u001b[1;32m   2626\u001b[0m \u001b[38;5;124;03m    \"\"\"\u001b[39;00m\n\u001b[0;32m-> 2627\u001b[0m     \u001b[38;5;28;01mreturn\u001b[39;00m \u001b[38;5;28;43mself\u001b[39;49m\u001b[38;5;241;43m.\u001b[39;49m\u001b[43m_get_registry_client\u001b[49m\u001b[43m(\u001b[49m\u001b[43m)\u001b[49m\u001b[38;5;241;43m.\u001b[39;49m\u001b[43mget_model_version_download_uri\u001b[49m\u001b[43m(\u001b[49m\u001b[43mname\u001b[49m\u001b[43m,\u001b[49m\u001b[43m \u001b[49m\u001b[43mversion\u001b[49m\u001b[43m)\u001b[49m\n",
      "File \u001b[0;32m/opt/anaconda3/lib/python3.9/site-packages/mlflow/tracking/_model_registry/client.py:279\u001b[0m, in \u001b[0;36mModelRegistryClient.get_model_version_download_uri\u001b[0;34m(self, name, version)\u001b[0m\n\u001b[1;32m    271\u001b[0m \u001b[38;5;28;01mdef\u001b[39;00m \u001b[38;5;21mget_model_version_download_uri\u001b[39m(\u001b[38;5;28mself\u001b[39m, name, version):\n\u001b[1;32m    272\u001b[0m \u001b[38;5;250m    \u001b[39m\u001b[38;5;124;03m\"\"\"\u001b[39;00m\n\u001b[1;32m    273\u001b[0m \u001b[38;5;124;03m    Get the download location in Model Registry for this model version.\u001b[39;00m\n\u001b[1;32m    274\u001b[0m \n\u001b[0;32m   (...)\u001b[0m\n\u001b[1;32m    277\u001b[0m \u001b[38;5;124;03m    :return: A single URI location that allows reads for downloading.\u001b[39;00m\n\u001b[1;32m    278\u001b[0m \u001b[38;5;124;03m    \"\"\"\u001b[39;00m\n\u001b[0;32m--> 279\u001b[0m     \u001b[38;5;28;01mreturn\u001b[39;00m \u001b[38;5;28;43mself\u001b[39;49m\u001b[38;5;241;43m.\u001b[39;49m\u001b[43mstore\u001b[49m\u001b[38;5;241;43m.\u001b[39;49m\u001b[43mget_model_version_download_uri\u001b[49m\u001b[43m(\u001b[49m\u001b[43mname\u001b[49m\u001b[43m,\u001b[49m\u001b[43m \u001b[49m\u001b[43mversion\u001b[49m\u001b[43m)\u001b[49m\n",
      "File \u001b[0;32m/opt/anaconda3/lib/python3.9/site-packages/mlflow/store/model_registry/file_store.py:682\u001b[0m, in \u001b[0;36mFileStore.get_model_version_download_uri\u001b[0;34m(self, name, version)\u001b[0m\n\u001b[1;32m    672\u001b[0m \u001b[38;5;28;01mdef\u001b[39;00m \u001b[38;5;21mget_model_version_download_uri\u001b[39m(\u001b[38;5;28mself\u001b[39m, name, version):\n\u001b[1;32m    673\u001b[0m \u001b[38;5;250m    \u001b[39m\u001b[38;5;124;03m\"\"\"\u001b[39;00m\n\u001b[1;32m    674\u001b[0m \u001b[38;5;124;03m    Get the download location in Model Registry for this model version.\u001b[39;00m\n\u001b[1;32m    675\u001b[0m \u001b[38;5;124;03m    NOTE: For first version of Model Registry, since the models are not copied over to another\u001b[39;00m\n\u001b[0;32m   (...)\u001b[0m\n\u001b[1;32m    680\u001b[0m \u001b[38;5;124;03m    :return: A single URI location that allows reads for downloading.\u001b[39;00m\n\u001b[1;32m    681\u001b[0m \u001b[38;5;124;03m    \"\"\"\u001b[39;00m\n\u001b[0;32m--> 682\u001b[0m     model_version \u001b[38;5;241m=\u001b[39m \u001b[38;5;28;43mself\u001b[39;49m\u001b[38;5;241;43m.\u001b[39;49m\u001b[43mget_model_version\u001b[49m\u001b[43m(\u001b[49m\u001b[43mname\u001b[49m\u001b[43m,\u001b[49m\u001b[43m \u001b[49m\u001b[43mversion\u001b[49m\u001b[43m)\u001b[49m\n\u001b[1;32m    683\u001b[0m     \u001b[38;5;28;01mreturn\u001b[39;00m model_version\u001b[38;5;241m.\u001b[39msource\n",
      "File \u001b[0;32m/opt/anaconda3/lib/python3.9/site-packages/mlflow/store/model_registry/file_store.py:658\u001b[0m, in \u001b[0;36mFileStore.get_model_version\u001b[0;34m(self, name, version)\u001b[0m\n\u001b[1;32m    656\u001b[0m _validate_model_name(name)\n\u001b[1;32m    657\u001b[0m _validate_model_version(version)\n\u001b[0;32m--> 658\u001b[0m registered_model_version_dir \u001b[38;5;241m=\u001b[39m \u001b[38;5;28;43mself\u001b[39;49m\u001b[38;5;241;43m.\u001b[39;49m\u001b[43m_get_model_version_dir\u001b[49m\u001b[43m(\u001b[49m\u001b[43mname\u001b[49m\u001b[43m,\u001b[49m\u001b[43m \u001b[49m\u001b[43mversion\u001b[49m\u001b[43m)\u001b[49m\n\u001b[1;32m    659\u001b[0m \u001b[38;5;28;01mif\u001b[39;00m \u001b[38;5;129;01mnot\u001b[39;00m exists(registered_model_version_dir):\n\u001b[1;32m    660\u001b[0m     \u001b[38;5;28;01mraise\u001b[39;00m MlflowException(\n\u001b[1;32m    661\u001b[0m         \u001b[38;5;124mf\u001b[39m\u001b[38;5;124m\"\u001b[39m\u001b[38;5;124mModel Version (name=\u001b[39m\u001b[38;5;132;01m{\u001b[39;00mname\u001b[38;5;132;01m}\u001b[39;00m\u001b[38;5;124m, version=\u001b[39m\u001b[38;5;132;01m{\u001b[39;00mversion\u001b[38;5;132;01m}\u001b[39;00m\u001b[38;5;124m) not found\u001b[39m\u001b[38;5;124m\"\u001b[39m,\n\u001b[1;32m    662\u001b[0m         RESOURCE_DOES_NOT_EXIST,\n\u001b[1;32m    663\u001b[0m     )\n",
      "File \u001b[0;32m/opt/anaconda3/lib/python3.9/site-packages/mlflow/store/model_registry/file_store.py:476\u001b[0m, in \u001b[0;36mFileStore._get_model_version_dir\u001b[0;34m(self, name, version)\u001b[0m\n\u001b[1;32m    474\u001b[0m registered_model_path \u001b[38;5;241m=\u001b[39m \u001b[38;5;28mself\u001b[39m\u001b[38;5;241m.\u001b[39m_get_registered_model_path(name)\n\u001b[1;32m    475\u001b[0m \u001b[38;5;28;01mif\u001b[39;00m \u001b[38;5;129;01mnot\u001b[39;00m exists(registered_model_path):\n\u001b[0;32m--> 476\u001b[0m     \u001b[38;5;28;01mraise\u001b[39;00m MlflowException(\n\u001b[1;32m    477\u001b[0m         \u001b[38;5;124mf\u001b[39m\u001b[38;5;124m\"\u001b[39m\u001b[38;5;124mRegistered Model with name=\u001b[39m\u001b[38;5;132;01m{\u001b[39;00mname\u001b[38;5;132;01m}\u001b[39;00m\u001b[38;5;124m not found\u001b[39m\u001b[38;5;124m\"\u001b[39m,\n\u001b[1;32m    478\u001b[0m         RESOURCE_DOES_NOT_EXIST,\n\u001b[1;32m    479\u001b[0m     )\n\u001b[1;32m    480\u001b[0m \u001b[38;5;28;01mreturn\u001b[39;00m join(registered_model_path, \u001b[38;5;124mf\u001b[39m\u001b[38;5;124m\"\u001b[39m\u001b[38;5;124mversion-\u001b[39m\u001b[38;5;132;01m{\u001b[39;00mversion\u001b[38;5;132;01m}\u001b[39;00m\u001b[38;5;124m\"\u001b[39m)\n",
      "\u001b[0;31mMlflowException\u001b[0m: Registered Model with name=CLF Model not found"
     ]
    }
   ],
   "source": [
    "import mlflow\n",
    "import numpy as np\n",
    "import random\n",
    "\n",
    "model_name = \"CLF Model\"\n",
    "model_version = 1\n",
    "\n",
    "\n",
    "# model can be loaded either way\n",
    "model = mlflow.sklearn.load_model(model_uri=f\"models:/{model_name}/{model_version}\")\n",
    "#model = mlflow.pyfunc.load_model(model_uri=f\"models:/{model_name}/{model_version}\")\n",
    "\n",
    "data = [random.uniform(0, 1) for a in range(26467)]\n",
    "\n",
    "print(model.predict(np.array([data])))"
   ]
  },
  {
   "cell_type": "code",
   "execution_count": 19,
   "id": "df3ceb60",
   "metadata": {},
   "outputs": [],
   "source": [
    "model_name = \"SpambugFull\"\n",
    "model_version = 1"
   ]
  },
  {
   "cell_type": "code",
   "execution_count": null,
   "id": "0494cda1",
   "metadata": {},
   "outputs": [],
   "source": []
  },
  {
   "cell_type": "code",
   "execution_count": 20,
   "id": "f1c35568",
   "metadata": {},
   "outputs": [
    {
     "name": "stderr",
     "output_type": "stream",
     "text": [
      "2023/08/03 15:37:50 WARNING mlflow.pyfunc: Detected one or more mismatches between the model's dependencies and the current Python environment:\n",
      " - mlflow (current: 2.2.2, required: mlflow==2.5.0)\n",
      " - numpy (current: 1.22.4, required: numpy==1.23.2)\n",
      " - pyopenssl (current: 22.0.0, required: pyopenssl==23.2.0)\n",
      " - pytz (current: 2022.1, required: pytz==2023.3)\n",
      "To fix the mismatches, call `mlflow.pyfunc.get_model_dependencies(model_uri)` to fetch the model's environment and install dependencies using the resulting environment file.\n"
     ]
    }
   ],
   "source": [
    "model = mlflow.pyfunc.load_model(model_uri=f\"models:/{model_name}/{model_version}\")"
   ]
  },
  {
   "cell_type": "code",
   "execution_count": 21,
   "id": "29bccf46",
   "metadata": {},
   "outputs": [
    {
     "name": "stdout",
     "output_type": "stream",
     "text": [
      "mlflow.pyfunc.loaded_model:\n",
      "  artifact_path: spambug_full_model\n",
      "  flavor: mlflow.pyfunc.model\n",
      "  run_id: 99e12088cfe84d48961a9b597e1070f7\n",
      "\n"
     ]
    }
   ],
   "source": [
    "print(model)"
   ]
  },
  {
   "cell_type": "code",
   "execution_count": 43,
   "id": "4f8b5f10",
   "metadata": {},
   "outputs": [],
   "source": [
    "import json\n",
    "with open(\"./tests/fixtures/bugs.json\") as f:\n",
    "    example_bugs = [json.loads(line) for line in f]\n",
    "for bug in example_bugs:\n",
    "    bug[\"filed_via\"] = \"bugzilla\"\n",
    "prediction_input = [json.dumps(e) for e in example_bugs[:3]]\n"
   ]
  },
  {
   "cell_type": "code",
   "execution_count": 46,
   "id": "4f8a1b96",
   "metadata": {},
   "outputs": [
    {
     "ename": "TypeError",
     "evalue": "the JSON object must be str, bytes or bytearray, not int",
     "output_type": "error",
     "traceback": [
      "\u001b[0;31m---------------------------------------------------------------------------\u001b[0m",
      "\u001b[0;31mTypeError\u001b[0m                                 Traceback (most recent call last)",
      "Input \u001b[0;32mIn [46]\u001b[0m, in \u001b[0;36m<cell line: 2>\u001b[0;34m()\u001b[0m\n\u001b[1;32m      1\u001b[0m \u001b[38;5;66;03m## Not working\u001b[39;00m\n\u001b[0;32m----> 2\u001b[0m \u001b[43mmodel\u001b[49m\u001b[38;5;241;43m.\u001b[39;49m\u001b[43mpredict\u001b[49m\u001b[43m(\u001b[49m\u001b[43mprediction_input\u001b[49m\u001b[43m)\u001b[49m\n",
      "File \u001b[0;32m/opt/anaconda3/lib/python3.9/site-packages/mlflow/pyfunc/__init__.py:413\u001b[0m, in \u001b[0;36mPyFuncModel.predict\u001b[0;34m(self, data)\u001b[0m\n\u001b[1;32m    411\u001b[0m \u001b[38;5;28;01mif\u001b[39;00m input_schema \u001b[38;5;129;01mis\u001b[39;00m \u001b[38;5;129;01mnot\u001b[39;00m \u001b[38;5;28;01mNone\u001b[39;00m:\n\u001b[1;32m    412\u001b[0m     data \u001b[38;5;241m=\u001b[39m _enforce_schema(data, input_schema)\n\u001b[0;32m--> 413\u001b[0m \u001b[38;5;28;01mreturn\u001b[39;00m \u001b[38;5;28;43mself\u001b[39;49m\u001b[38;5;241;43m.\u001b[39;49m\u001b[43m_predict_fn\u001b[49m\u001b[43m(\u001b[49m\u001b[43mdata\u001b[49m\u001b[43m)\u001b[49m\n",
      "File \u001b[0;32m/opt/anaconda3/lib/python3.9/site-packages/mlflow/pyfunc/model.py:305\u001b[0m, in \u001b[0;36m_PythonModelPyfuncWrapper.predict\u001b[0;34m(self, model_input)\u001b[0m\n\u001b[1;32m    304\u001b[0m \u001b[38;5;28;01mdef\u001b[39;00m \u001b[38;5;21mpredict\u001b[39m(\u001b[38;5;28mself\u001b[39m, model_input):\n\u001b[0;32m--> 305\u001b[0m     \u001b[38;5;28;01mreturn\u001b[39;00m \u001b[38;5;28;43mself\u001b[39;49m\u001b[38;5;241;43m.\u001b[39;49m\u001b[43mpython_model\u001b[49m\u001b[38;5;241;43m.\u001b[39;49m\u001b[43mpredict\u001b[49m\u001b[43m(\u001b[49m\u001b[38;5;28;43mself\u001b[39;49m\u001b[38;5;241;43m.\u001b[39;49m\u001b[43mcontext\u001b[49m\u001b[43m,\u001b[49m\u001b[43m \u001b[49m\u001b[43mmodel_input\u001b[49m\u001b[43m)\u001b[49m\n",
      "File \u001b[0;32m~/Documents/GitHub/mlops-platform-spike-library/bugbug/mlflow/bugbug/trackers/spambug_inference.py:23\u001b[0m, in \u001b[0;36mSpambugInference.predict\u001b[0;34m(self, context, bugs)\u001b[0m\n\u001b[1;32m     17\u001b[0m \u001b[38;5;28;01mdef\u001b[39;00m \u001b[38;5;21mpredict\u001b[39m(\u001b[38;5;28mself\u001b[39m, context, bugs: List[\u001b[38;5;28mstr\u001b[39m]):\n\u001b[1;32m     18\u001b[0m \u001b[38;5;250m    \u001b[39m\u001b[38;5;124;03m\"\"\"\u001b[39;00m\n\u001b[1;32m     19\u001b[0m \u001b[38;5;124;03m    Args:\u001b[39;00m\n\u001b[1;32m     20\u001b[0m \u001b[38;5;124;03m        context ([type]): MLflow context where the model artifact is stored.\u001b[39;00m\n\u001b[1;32m     21\u001b[0m \u001b[38;5;124;03m        model_input ([type]): the input data to fit into the model.\u001b[39;00m\n\u001b[1;32m     22\u001b[0m \u001b[38;5;124;03m    \"\"\"\u001b[39;00m\n\u001b[0;32m---> 23\u001b[0m     bugs \u001b[38;5;241m=\u001b[39m [json\u001b[38;5;241m.\u001b[39mloads(s) \u001b[38;5;28;01mfor\u001b[39;00m s \u001b[38;5;129;01min\u001b[39;00m bugs]\n\u001b[1;32m     24\u001b[0m     probs \u001b[38;5;241m=\u001b[39m \u001b[38;5;28mself\u001b[39m\u001b[38;5;241m.\u001b[39mclassify(bugs, \u001b[38;5;28;01mTrue\u001b[39;00m)\n\u001b[1;32m     25\u001b[0m     indexes \u001b[38;5;241m=\u001b[39m probs\u001b[38;5;241m.\u001b[39margmax(axis\u001b[38;5;241m=\u001b[39m\u001b[38;5;241m-\u001b[39m\u001b[38;5;241m1\u001b[39m)\n",
      "File \u001b[0;32m~/Documents/GitHub/mlops-platform-spike-library/bugbug/mlflow/bugbug/trackers/spambug_inference.py:23\u001b[0m, in \u001b[0;36m<listcomp>\u001b[0;34m(.0)\u001b[0m\n\u001b[1;32m     17\u001b[0m \u001b[38;5;28;01mdef\u001b[39;00m \u001b[38;5;21mpredict\u001b[39m(\u001b[38;5;28mself\u001b[39m, context, bugs: List[\u001b[38;5;28mstr\u001b[39m]):\n\u001b[1;32m     18\u001b[0m \u001b[38;5;250m    \u001b[39m\u001b[38;5;124;03m\"\"\"\u001b[39;00m\n\u001b[1;32m     19\u001b[0m \u001b[38;5;124;03m    Args:\u001b[39;00m\n\u001b[1;32m     20\u001b[0m \u001b[38;5;124;03m        context ([type]): MLflow context where the model artifact is stored.\u001b[39;00m\n\u001b[1;32m     21\u001b[0m \u001b[38;5;124;03m        model_input ([type]): the input data to fit into the model.\u001b[39;00m\n\u001b[1;32m     22\u001b[0m \u001b[38;5;124;03m    \"\"\"\u001b[39;00m\n\u001b[0;32m---> 23\u001b[0m     bugs \u001b[38;5;241m=\u001b[39m [\u001b[43mjson\u001b[49m\u001b[38;5;241;43m.\u001b[39;49m\u001b[43mloads\u001b[49m\u001b[43m(\u001b[49m\u001b[43ms\u001b[49m\u001b[43m)\u001b[49m \u001b[38;5;28;01mfor\u001b[39;00m s \u001b[38;5;129;01min\u001b[39;00m bugs]\n\u001b[1;32m     24\u001b[0m     probs \u001b[38;5;241m=\u001b[39m \u001b[38;5;28mself\u001b[39m\u001b[38;5;241m.\u001b[39mclassify(bugs, \u001b[38;5;28;01mTrue\u001b[39;00m)\n\u001b[1;32m     25\u001b[0m     indexes \u001b[38;5;241m=\u001b[39m probs\u001b[38;5;241m.\u001b[39margmax(axis\u001b[38;5;241m=\u001b[39m\u001b[38;5;241m-\u001b[39m\u001b[38;5;241m1\u001b[39m)\n",
      "File \u001b[0;32m/opt/anaconda3/lib/python3.9/json/__init__.py:339\u001b[0m, in \u001b[0;36mloads\u001b[0;34m(s, cls, object_hook, parse_float, parse_int, parse_constant, object_pairs_hook, **kw)\u001b[0m\n\u001b[1;32m    337\u001b[0m \u001b[38;5;28;01melse\u001b[39;00m:\n\u001b[1;32m    338\u001b[0m     \u001b[38;5;28;01mif\u001b[39;00m \u001b[38;5;129;01mnot\u001b[39;00m \u001b[38;5;28misinstance\u001b[39m(s, (\u001b[38;5;28mbytes\u001b[39m, \u001b[38;5;28mbytearray\u001b[39m)):\n\u001b[0;32m--> 339\u001b[0m         \u001b[38;5;28;01mraise\u001b[39;00m \u001b[38;5;167;01mTypeError\u001b[39;00m(\u001b[38;5;124mf\u001b[39m\u001b[38;5;124m'\u001b[39m\u001b[38;5;124mthe JSON object must be str, bytes or bytearray, \u001b[39m\u001b[38;5;124m'\u001b[39m\n\u001b[1;32m    340\u001b[0m                         \u001b[38;5;124mf\u001b[39m\u001b[38;5;124m'\u001b[39m\u001b[38;5;124mnot \u001b[39m\u001b[38;5;132;01m{\u001b[39;00ms\u001b[38;5;241m.\u001b[39m\u001b[38;5;18m__class__\u001b[39m\u001b[38;5;241m.\u001b[39m\u001b[38;5;18m__name__\u001b[39m\u001b[38;5;132;01m}\u001b[39;00m\u001b[38;5;124m'\u001b[39m)\n\u001b[1;32m    341\u001b[0m     s \u001b[38;5;241m=\u001b[39m s\u001b[38;5;241m.\u001b[39mdecode(detect_encoding(s), \u001b[38;5;124m'\u001b[39m\u001b[38;5;124msurrogatepass\u001b[39m\u001b[38;5;124m'\u001b[39m)\n\u001b[1;32m    343\u001b[0m \u001b[38;5;28;01mif\u001b[39;00m (\u001b[38;5;28mcls\u001b[39m \u001b[38;5;129;01mis\u001b[39;00m \u001b[38;5;28;01mNone\u001b[39;00m \u001b[38;5;129;01mand\u001b[39;00m object_hook \u001b[38;5;129;01mis\u001b[39;00m \u001b[38;5;28;01mNone\u001b[39;00m \u001b[38;5;129;01mand\u001b[39;00m\n\u001b[1;32m    344\u001b[0m         parse_int \u001b[38;5;129;01mis\u001b[39;00m \u001b[38;5;28;01mNone\u001b[39;00m \u001b[38;5;129;01mand\u001b[39;00m parse_float \u001b[38;5;129;01mis\u001b[39;00m \u001b[38;5;28;01mNone\u001b[39;00m \u001b[38;5;129;01mand\u001b[39;00m\n\u001b[1;32m    345\u001b[0m         parse_constant \u001b[38;5;129;01mis\u001b[39;00m \u001b[38;5;28;01mNone\u001b[39;00m \u001b[38;5;129;01mand\u001b[39;00m object_pairs_hook \u001b[38;5;129;01mis\u001b[39;00m \u001b[38;5;28;01mNone\u001b[39;00m \u001b[38;5;129;01mand\u001b[39;00m \u001b[38;5;129;01mnot\u001b[39;00m kw):\n",
      "\u001b[0;31mTypeError\u001b[0m: the JSON object must be str, bytes or bytearray, not int"
     ]
    }
   ],
   "source": [
    "## Not working\n",
    "model.predict(prediction_input)"
   ]
  },
  {
   "cell_type": "code",
   "execution_count": 17,
   "id": "171f05ac",
   "metadata": {},
   "outputs": [
    {
     "name": "stderr",
     "output_type": "stream",
     "text": [
      "2023/08/02 16:24:25 INFO mlflow.pyfunc: To install the dependencies that were used to train the model, run the following command: '%pip install -r /var/folders/jq/lt0dyzf14y93d8k18k68_4fm0000gn/T/tmp2r21_wzn/requirements.txt'.\n"
     ]
    },
    {
     "data": {
      "text/plain": [
       "'/var/folders/jq/lt0dyzf14y93d8k18k68_4fm0000gn/T/tmp2r21_wzn/requirements.txt'"
      ]
     },
     "execution_count": 17,
     "metadata": {},
     "output_type": "execute_result"
    }
   ],
   "source": [
    "mlflow.pyfunc.get_model_dependencies(model_uri=f\"models:/{model_name}/{model_version}\")"
   ]
  },
  {
   "cell_type": "code",
   "execution_count": 18,
   "id": "aa505203",
   "metadata": {},
   "outputs": [
    {
     "name": "stdout",
     "output_type": "stream",
     "text": [
      "Requirement already satisfied: mlflow==2.5.0 in ./venv/lib/python3.9/site-packages (from -r /var/folders/jq/lt0dyzf14y93d8k18k68_4fm0000gn/T/tmp2r21_wzn/requirements.txt (line 1)) (2.5.0)\n",
      "Requirement already satisfied: cloudpickle==2.2.1 in ./venv/lib/python3.9/site-packages (from -r /var/folders/jq/lt0dyzf14y93d8k18k68_4fm0000gn/T/tmp2r21_wzn/requirements.txt (line 2)) (2.2.1)\n",
      "Requirement already satisfied: numpy==1.22.4 in ./venv/lib/python3.9/site-packages (from -r /var/folders/jq/lt0dyzf14y93d8k18k68_4fm0000gn/T/tmp2r21_wzn/requirements.txt (line 3)) (1.22.4)\n",
      "Requirement already satisfied: pandas==2.0.3 in ./venv/lib/python3.9/site-packages (from -r /var/folders/jq/lt0dyzf14y93d8k18k68_4fm0000gn/T/tmp2r21_wzn/requirements.txt (line 4)) (2.0.3)\n",
      "Requirement already satisfied: psutil==5.9.5 in ./venv/lib/python3.9/site-packages (from -r /var/folders/jq/lt0dyzf14y93d8k18k68_4fm0000gn/T/tmp2r21_wzn/requirements.txt (line 5)) (5.9.5)\n",
      "Requirement already satisfied: scikit-learn==1.1.3 in ./venv/lib/python3.9/site-packages (from -r /var/folders/jq/lt0dyzf14y93d8k18k68_4fm0000gn/T/tmp2r21_wzn/requirements.txt (line 6)) (1.1.3)\n",
      "Requirement already satisfied: scipy==1.11.1 in ./venv/lib/python3.9/site-packages (from -r /var/folders/jq/lt0dyzf14y93d8k18k68_4fm0000gn/T/tmp2r21_wzn/requirements.txt (line 7)) (1.11.1)\n",
      "Requirement already satisfied: xgboost==1.7.6 in ./venv/lib/python3.9/site-packages (from -r /var/folders/jq/lt0dyzf14y93d8k18k68_4fm0000gn/T/tmp2r21_wzn/requirements.txt (line 8)) (1.7.6)\n",
      "Requirement already satisfied: querystring-parser<2 in ./venv/lib/python3.9/site-packages (from mlflow==2.5.0->-r /var/folders/jq/lt0dyzf14y93d8k18k68_4fm0000gn/T/tmp2r21_wzn/requirements.txt (line 1)) (1.2.4)\n",
      "Requirement already satisfied: click<9,>=7.0 in ./venv/lib/python3.9/site-packages (from mlflow==2.5.0->-r /var/folders/jq/lt0dyzf14y93d8k18k68_4fm0000gn/T/tmp2r21_wzn/requirements.txt (line 1)) (8.1.6)\n",
      "Requirement already satisfied: databricks-cli<1,>=0.8.7 in ./venv/lib/python3.9/site-packages (from mlflow==2.5.0->-r /var/folders/jq/lt0dyzf14y93d8k18k68_4fm0000gn/T/tmp2r21_wzn/requirements.txt (line 1)) (0.17.7)\n",
      "Requirement already satisfied: alembic!=1.10.0,<2 in ./venv/lib/python3.9/site-packages (from mlflow==2.5.0->-r /var/folders/jq/lt0dyzf14y93d8k18k68_4fm0000gn/T/tmp2r21_wzn/requirements.txt (line 1)) (1.11.1)\n",
      "Requirement already satisfied: importlib-metadata!=4.7.0,<7,>=3.7.0 in ./venv/lib/python3.9/site-packages (from mlflow==2.5.0->-r /var/folders/jq/lt0dyzf14y93d8k18k68_4fm0000gn/T/tmp2r21_wzn/requirements.txt (line 1)) (6.8.0)\n",
      "Requirement already satisfied: docker<7,>=4.0.0 in ./venv/lib/python3.9/site-packages (from mlflow==2.5.0->-r /var/folders/jq/lt0dyzf14y93d8k18k68_4fm0000gn/T/tmp2r21_wzn/requirements.txt (line 1)) (6.1.3)\n",
      "Requirement already satisfied: sqlalchemy<3,>=1.4.0 in ./venv/lib/python3.9/site-packages (from mlflow==2.5.0->-r /var/folders/jq/lt0dyzf14y93d8k18k68_4fm0000gn/T/tmp2r21_wzn/requirements.txt (line 1)) (2.0.19)\n",
      "Requirement already satisfied: Flask<3 in ./venv/lib/python3.9/site-packages (from mlflow==2.5.0->-r /var/folders/jq/lt0dyzf14y93d8k18k68_4fm0000gn/T/tmp2r21_wzn/requirements.txt (line 1)) (2.3.2)\n",
      "Requirement already satisfied: gunicorn<21 in ./venv/lib/python3.9/site-packages (from mlflow==2.5.0->-r /var/folders/jq/lt0dyzf14y93d8k18k68_4fm0000gn/T/tmp2r21_wzn/requirements.txt (line 1)) (20.1.0)\n",
      "Requirement already satisfied: matplotlib<4 in ./venv/lib/python3.9/site-packages (from mlflow==2.5.0->-r /var/folders/jq/lt0dyzf14y93d8k18k68_4fm0000gn/T/tmp2r21_wzn/requirements.txt (line 1)) (3.7.2)\n",
      "Requirement already satisfied: pytz<2024 in ./venv/lib/python3.9/site-packages (from mlflow==2.5.0->-r /var/folders/jq/lt0dyzf14y93d8k18k68_4fm0000gn/T/tmp2r21_wzn/requirements.txt (line 1)) (2023.3)\n",
      "Requirement already satisfied: requests<3,>=2.17.3 in ./venv/lib/python3.9/site-packages (from mlflow==2.5.0->-r /var/folders/jq/lt0dyzf14y93d8k18k68_4fm0000gn/T/tmp2r21_wzn/requirements.txt (line 1)) (2.31.0)\n",
      "Requirement already satisfied: packaging<24 in ./venv/lib/python3.9/site-packages (from mlflow==2.5.0->-r /var/folders/jq/lt0dyzf14y93d8k18k68_4fm0000gn/T/tmp2r21_wzn/requirements.txt (line 1)) (23.1)\n",
      "Requirement already satisfied: markdown<4,>=3.3 in ./venv/lib/python3.9/site-packages (from mlflow==2.5.0->-r /var/folders/jq/lt0dyzf14y93d8k18k68_4fm0000gn/T/tmp2r21_wzn/requirements.txt (line 1)) (3.4.4)\n",
      "Requirement already satisfied: pyarrow<13,>=4.0.0 in ./venv/lib/python3.9/site-packages (from mlflow==2.5.0->-r /var/folders/jq/lt0dyzf14y93d8k18k68_4fm0000gn/T/tmp2r21_wzn/requirements.txt (line 1)) (12.0.1)\n",
      "Requirement already satisfied: entrypoints<1 in ./venv/lib/python3.9/site-packages (from mlflow==2.5.0->-r /var/folders/jq/lt0dyzf14y93d8k18k68_4fm0000gn/T/tmp2r21_wzn/requirements.txt (line 1)) (0.4)\n",
      "Requirement already satisfied: Jinja2<4,>=2.11 in ./venv/lib/python3.9/site-packages (from mlflow==2.5.0->-r /var/folders/jq/lt0dyzf14y93d8k18k68_4fm0000gn/T/tmp2r21_wzn/requirements.txt (line 1)) (3.1.2)\n",
      "Requirement already satisfied: protobuf<5,>=3.12.0 in ./venv/lib/python3.9/site-packages (from mlflow==2.5.0->-r /var/folders/jq/lt0dyzf14y93d8k18k68_4fm0000gn/T/tmp2r21_wzn/requirements.txt (line 1)) (4.23.4)\n",
      "Requirement already satisfied: gitpython<4,>=2.1.0 in ./venv/lib/python3.9/site-packages (from mlflow==2.5.0->-r /var/folders/jq/lt0dyzf14y93d8k18k68_4fm0000gn/T/tmp2r21_wzn/requirements.txt (line 1)) (3.1.32)\n",
      "Requirement already satisfied: pyyaml<7,>=5.1 in ./venv/lib/python3.9/site-packages (from mlflow==2.5.0->-r /var/folders/jq/lt0dyzf14y93d8k18k68_4fm0000gn/T/tmp2r21_wzn/requirements.txt (line 1)) (6.0.1)\n",
      "Requirement already satisfied: sqlparse<1,>=0.4.0 in ./venv/lib/python3.9/site-packages (from mlflow==2.5.0->-r /var/folders/jq/lt0dyzf14y93d8k18k68_4fm0000gn/T/tmp2r21_wzn/requirements.txt (line 1)) (0.4.4)\n",
      "Requirement already satisfied: python-dateutil>=2.8.2 in ./venv/lib/python3.9/site-packages (from pandas==2.0.3->-r /var/folders/jq/lt0dyzf14y93d8k18k68_4fm0000gn/T/tmp2r21_wzn/requirements.txt (line 4)) (2.8.2)\n",
      "Requirement already satisfied: tzdata>=2022.1 in ./venv/lib/python3.9/site-packages (from pandas==2.0.3->-r /var/folders/jq/lt0dyzf14y93d8k18k68_4fm0000gn/T/tmp2r21_wzn/requirements.txt (line 4)) (2023.3)\n",
      "Requirement already satisfied: joblib>=1.0.0 in ./venv/lib/python3.9/site-packages (from scikit-learn==1.1.3->-r /var/folders/jq/lt0dyzf14y93d8k18k68_4fm0000gn/T/tmp2r21_wzn/requirements.txt (line 6)) (1.3.1)\n",
      "Requirement already satisfied: threadpoolctl>=2.0.0 in ./venv/lib/python3.9/site-packages (from scikit-learn==1.1.3->-r /var/folders/jq/lt0dyzf14y93d8k18k68_4fm0000gn/T/tmp2r21_wzn/requirements.txt (line 6)) (3.2.0)\n",
      "Requirement already satisfied: typing-extensions>=4 in ./venv/lib/python3.9/site-packages (from alembic!=1.10.0,<2->mlflow==2.5.0->-r /var/folders/jq/lt0dyzf14y93d8k18k68_4fm0000gn/T/tmp2r21_wzn/requirements.txt (line 1)) (4.7.1)\n",
      "Requirement already satisfied: Mako in ./venv/lib/python3.9/site-packages (from alembic!=1.10.0,<2->mlflow==2.5.0->-r /var/folders/jq/lt0dyzf14y93d8k18k68_4fm0000gn/T/tmp2r21_wzn/requirements.txt (line 1)) (1.2.4)\n",
      "Requirement already satisfied: pyjwt>=1.7.0 in ./venv/lib/python3.9/site-packages (from databricks-cli<1,>=0.8.7->mlflow==2.5.0->-r /var/folders/jq/lt0dyzf14y93d8k18k68_4fm0000gn/T/tmp2r21_wzn/requirements.txt (line 1)) (2.8.0)\n",
      "Requirement already satisfied: oauthlib>=3.1.0 in ./venv/lib/python3.9/site-packages (from databricks-cli<1,>=0.8.7->mlflow==2.5.0->-r /var/folders/jq/lt0dyzf14y93d8k18k68_4fm0000gn/T/tmp2r21_wzn/requirements.txt (line 1)) (3.2.2)\n",
      "Requirement already satisfied: tabulate>=0.7.7 in ./venv/lib/python3.9/site-packages (from databricks-cli<1,>=0.8.7->mlflow==2.5.0->-r /var/folders/jq/lt0dyzf14y93d8k18k68_4fm0000gn/T/tmp2r21_wzn/requirements.txt (line 1)) (0.9.0)\n",
      "Requirement already satisfied: six>=1.10.0 in ./venv/lib/python3.9/site-packages (from databricks-cli<1,>=0.8.7->mlflow==2.5.0->-r /var/folders/jq/lt0dyzf14y93d8k18k68_4fm0000gn/T/tmp2r21_wzn/requirements.txt (line 1)) (1.16.0)\n",
      "Requirement already satisfied: urllib3<2.0.0,>=1.26.7 in ./venv/lib/python3.9/site-packages (from databricks-cli<1,>=0.8.7->mlflow==2.5.0->-r /var/folders/jq/lt0dyzf14y93d8k18k68_4fm0000gn/T/tmp2r21_wzn/requirements.txt (line 1)) (1.26.16)\n",
      "Requirement already satisfied: websocket-client>=0.32.0 in ./venv/lib/python3.9/site-packages (from docker<7,>=4.0.0->mlflow==2.5.0->-r /var/folders/jq/lt0dyzf14y93d8k18k68_4fm0000gn/T/tmp2r21_wzn/requirements.txt (line 1)) (1.6.1)\n",
      "Requirement already satisfied: itsdangerous>=2.1.2 in ./venv/lib/python3.9/site-packages (from Flask<3->mlflow==2.5.0->-r /var/folders/jq/lt0dyzf14y93d8k18k68_4fm0000gn/T/tmp2r21_wzn/requirements.txt (line 1)) (2.1.2)\n",
      "Requirement already satisfied: blinker>=1.6.2 in ./venv/lib/python3.9/site-packages (from Flask<3->mlflow==2.5.0->-r /var/folders/jq/lt0dyzf14y93d8k18k68_4fm0000gn/T/tmp2r21_wzn/requirements.txt (line 1)) (1.6.2)\n",
      "Requirement already satisfied: Werkzeug>=2.3.3 in ./venv/lib/python3.9/site-packages (from Flask<3->mlflow==2.5.0->-r /var/folders/jq/lt0dyzf14y93d8k18k68_4fm0000gn/T/tmp2r21_wzn/requirements.txt (line 1)) (2.3.6)\n",
      "Requirement already satisfied: gitdb<5,>=4.0.1 in ./venv/lib/python3.9/site-packages (from gitpython<4,>=2.1.0->mlflow==2.5.0->-r /var/folders/jq/lt0dyzf14y93d8k18k68_4fm0000gn/T/tmp2r21_wzn/requirements.txt (line 1)) (4.0.10)\n",
      "Requirement already satisfied: setuptools>=3.0 in ./venv/lib/python3.9/site-packages (from gunicorn<21->mlflow==2.5.0->-r /var/folders/jq/lt0dyzf14y93d8k18k68_4fm0000gn/T/tmp2r21_wzn/requirements.txt (line 1)) (58.1.0)\n",
      "Requirement already satisfied: zipp>=0.5 in ./venv/lib/python3.9/site-packages (from importlib-metadata!=4.7.0,<7,>=3.7.0->mlflow==2.5.0->-r /var/folders/jq/lt0dyzf14y93d8k18k68_4fm0000gn/T/tmp2r21_wzn/requirements.txt (line 1)) (3.16.2)\n",
      "Requirement already satisfied: MarkupSafe>=2.0 in ./venv/lib/python3.9/site-packages (from Jinja2<4,>=2.11->mlflow==2.5.0->-r /var/folders/jq/lt0dyzf14y93d8k18k68_4fm0000gn/T/tmp2r21_wzn/requirements.txt (line 1)) (2.1.3)\n",
      "Requirement already satisfied: pillow>=6.2.0 in ./venv/lib/python3.9/site-packages (from matplotlib<4->mlflow==2.5.0->-r /var/folders/jq/lt0dyzf14y93d8k18k68_4fm0000gn/T/tmp2r21_wzn/requirements.txt (line 1)) (10.0.0)\n",
      "Requirement already satisfied: importlib-resources>=3.2.0 in ./venv/lib/python3.9/site-packages (from matplotlib<4->mlflow==2.5.0->-r /var/folders/jq/lt0dyzf14y93d8k18k68_4fm0000gn/T/tmp2r21_wzn/requirements.txt (line 1)) (6.0.0)\n",
      "Requirement already satisfied: pyparsing<3.1,>=2.3.1 in ./venv/lib/python3.9/site-packages (from matplotlib<4->mlflow==2.5.0->-r /var/folders/jq/lt0dyzf14y93d8k18k68_4fm0000gn/T/tmp2r21_wzn/requirements.txt (line 1)) (3.0.9)\n",
      "Requirement already satisfied: fonttools>=4.22.0 in ./venv/lib/python3.9/site-packages (from matplotlib<4->mlflow==2.5.0->-r /var/folders/jq/lt0dyzf14y93d8k18k68_4fm0000gn/T/tmp2r21_wzn/requirements.txt (line 1)) (4.41.1)\n",
      "Requirement already satisfied: kiwisolver>=1.0.1 in ./venv/lib/python3.9/site-packages (from matplotlib<4->mlflow==2.5.0->-r /var/folders/jq/lt0dyzf14y93d8k18k68_4fm0000gn/T/tmp2r21_wzn/requirements.txt (line 1)) (1.4.4)\n",
      "Requirement already satisfied: contourpy>=1.0.1 in ./venv/lib/python3.9/site-packages (from matplotlib<4->mlflow==2.5.0->-r /var/folders/jq/lt0dyzf14y93d8k18k68_4fm0000gn/T/tmp2r21_wzn/requirements.txt (line 1)) (1.1.0)\n",
      "Requirement already satisfied: cycler>=0.10 in ./venv/lib/python3.9/site-packages (from matplotlib<4->mlflow==2.5.0->-r /var/folders/jq/lt0dyzf14y93d8k18k68_4fm0000gn/T/tmp2r21_wzn/requirements.txt (line 1)) (0.11.0)\n"
     ]
    },
    {
     "name": "stdout",
     "output_type": "stream",
     "text": [
      "Requirement already satisfied: idna<4,>=2.5 in ./venv/lib/python3.9/site-packages (from requests<3,>=2.17.3->mlflow==2.5.0->-r /var/folders/jq/lt0dyzf14y93d8k18k68_4fm0000gn/T/tmp2r21_wzn/requirements.txt (line 1)) (3.4)\n",
      "Requirement already satisfied: certifi>=2017.4.17 in ./venv/lib/python3.9/site-packages (from requests<3,>=2.17.3->mlflow==2.5.0->-r /var/folders/jq/lt0dyzf14y93d8k18k68_4fm0000gn/T/tmp2r21_wzn/requirements.txt (line 1)) (2023.7.22)\n",
      "Requirement already satisfied: charset-normalizer<4,>=2 in ./venv/lib/python3.9/site-packages (from requests<3,>=2.17.3->mlflow==2.5.0->-r /var/folders/jq/lt0dyzf14y93d8k18k68_4fm0000gn/T/tmp2r21_wzn/requirements.txt (line 1)) (3.2.0)\n",
      "Requirement already satisfied: smmap<6,>=3.0.1 in ./venv/lib/python3.9/site-packages (from gitdb<5,>=4.0.1->gitpython<4,>=2.1.0->mlflow==2.5.0->-r /var/folders/jq/lt0dyzf14y93d8k18k68_4fm0000gn/T/tmp2r21_wzn/requirements.txt (line 1)) (5.0.0)\n",
      "\u001b[33mWARNING: You are using pip version 22.0.4; however, version 23.2.1 is available.\n",
      "You should consider upgrading via the '/Users/Rrando/Documents/GitHub/mlops-platform-spike-library/bugbug/mlflow/venv/bin/python3 -m pip install --upgrade pip' command.\u001b[0m\u001b[33m\n",
      "\u001b[0m"
     ]
    }
   ],
   "source": [
    "!pip install -r /var/folders/jq/lt0dyzf14y93d8k18k68_4fm0000gn/T/tmp2r21_wzn/requirements.txt"
   ]
  },
  {
   "cell_type": "code",
   "execution_count": null,
   "id": "992f97ad",
   "metadata": {},
   "outputs": [],
   "source": []
  }
 ],
 "metadata": {
  "kernelspec": {
   "display_name": "Python 3 (ipykernel)",
   "language": "python",
   "name": "python3"
  },
  "language_info": {
   "codemirror_mode": {
    "name": "ipython",
    "version": 3
   },
   "file_extension": ".py",
   "mimetype": "text/x-python",
   "name": "python",
   "nbconvert_exporter": "python",
   "pygments_lexer": "ipython3",
   "version": "3.9.13"
  }
 },
 "nbformat": 4,
 "nbformat_minor": 5
}
